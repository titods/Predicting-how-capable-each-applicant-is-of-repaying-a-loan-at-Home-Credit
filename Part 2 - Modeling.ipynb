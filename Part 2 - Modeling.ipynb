{
 "cells": [
  {
   "cell_type": "markdown",
   "id": "stunning-infrastructure",
   "metadata": {},
   "source": [
    "# Load data and library"
   ]
  },
  {
   "cell_type": "code",
   "execution_count": 1,
   "id": "opposed-gross",
   "metadata": {},
   "outputs": [],
   "source": [
    "# import basic library\n",
    "import numpy as np\n",
    "import pandas as pd\n",
    "import matplotlib.pyplot as plt\n",
    "import seaborn as sns\n",
    "sns.set_style(\"darkgrid\")\n",
    "pd.options.display.max_columns = None\n",
    "plt.rcParams.update(plt.rcParamsDefault)\n",
    "%matplotlib inline\n",
    "\n",
    "import warnings\n",
    "warnings.filterwarnings(\"ignore\")\n",
    "import sys\n",
    "import ast\n",
    "def check_memory_usage(var):\n",
    "    print('%s KB'%(sys.getsizeof(var)/1000))"
   ]
  },
  {
   "cell_type": "code",
   "execution_count": 2,
   "id": "popular-somalia",
   "metadata": {},
   "outputs": [
    {
     "name": "stdout",
     "output_type": "stream",
     "text": [
      "Wall time: 27.1 s\n"
     ]
    }
   ],
   "source": [
    "%%time\n",
    "# load the final train and test dataset\n",
    "app_train = pd.read_csv('final train and test dataset/app_train_final.csv')\n",
    "app_test = pd.read_csv('final train and test dataset/app_test_final.csv')\n",
    "\n",
    "# load the column names\n",
    "column_names = pd.read_csv('final train and test dataset/column_names.csv')\n",
    "\n",
    "num_columns = ast.literal_eval(column_names[column_names['variable'] == 'num_columns']['list'].tolist()[0])\n",
    "cat_columns = ast.literal_eval(column_names[column_names['variable'] == 'cat_columns']['list'].tolist()[0])\n",
    "nom_columns = ast.literal_eval(column_names[column_names['variable'] == 'nom_columns']['list'].tolist()[0])\n",
    "ord_columns = ast.literal_eval(column_names[column_names['variable'] == 'ord_columns']['list'].tolist()[0])\n",
    "poly_columns = ast.literal_eval(column_names[column_names['variable'] == 'poly_columns']['list'].tolist()[0])\n",
    "creation_columns = ast.literal_eval(column_names[column_names['variable'] == 'creation_columns']['list'].tolist()[0])\n",
    "bureau_app_columns = ast.literal_eval(column_names[column_names['variable'] == 'bureau_app_columns']['list'].tolist()[0])\n",
    "previous_app_columns = ast.literal_eval(column_names[column_names['variable'] == 'previous_app_columns']['list'].tolist()[0])"
   ]
  },
  {
   "cell_type": "code",
   "execution_count": 3,
   "id": "contrary-creativity",
   "metadata": {},
   "outputs": [
    {
     "name": "stdout",
     "output_type": "stream",
     "text": [
      "app_train shape: (307511, 709)\n",
      "app_test shape: (48744, 708)\n"
     ]
    }
   ],
   "source": [
    "print('app_train shape:', app_train.shape)\n",
    "print('app_test shape:', app_test.shape)"
   ]
  },
  {
   "cell_type": "code",
   "execution_count": 4,
   "id": "framed-grill",
   "metadata": {},
   "outputs": [],
   "source": [
    "app_train['CODE_GENDER'] = pd.Categorical(app_train['CODE_GENDER'], ordered = True, categories = ['F', 'M'])\n",
    "app_test['CODE_GENDER'] = pd.Categorical(app_test['CODE_GENDER'], ordered = True, categories = ['F', 'M'])\n",
    "\n",
    "app_train['FLAG_OWN_CAR'] = pd.Categorical(app_train['FLAG_OWN_CAR'], ordered = True, categories = ['N', 'Y'])\n",
    "app_test['FLAG_OWN_CAR'] = pd.Categorical(app_test['FLAG_OWN_CAR'], ordered = True, categories = ['N', 'Y'])\n",
    "\n",
    "app_train['FLAG_OWN_REALTY'] = pd.Categorical(app_train['FLAG_OWN_REALTY'], ordered = True, categories = ['N', 'Y'])\n",
    "app_test['FLAG_OWN_REALTY'] = pd.Categorical(app_test['FLAG_OWN_REALTY'], ordered = True, categories = ['N', 'Y'])\n",
    "\n",
    "app_train['YEARS_BIRTH_SEGMENT'] = pd.Categorical(app_train['YEARS_BIRTH_SEGMENT'], ordered = True)\n",
    "app_test['YEARS_BIRTH_SEGMENT'] = pd.Categorical(app_test['YEARS_BIRTH_SEGMENT'], ordered = True)"
   ]
  },
  {
   "cell_type": "markdown",
   "id": "automatic-demand",
   "metadata": {},
   "source": [
    "# Modeling"
   ]
  },
  {
   "cell_type": "markdown",
   "id": "suspended-forth",
   "metadata": {},
   "source": [
    "## Baseline score\n",
    "\n",
    "The evaluation metric score to use for this project is `ROC AUC` score since the class is imbalance. Also this dataset is a part of [Kaggle Competition](https://www.kaggle.com/competitions/home-credit-default-risk/overview) which ask us to use `ROC AUC score` as the evaluation metric score. As there aren't any `TARGET` variable in `app_test`, we will have to create and submit the submission file which contains the `SK_ID_CURR` and `TARGET` (in the form of predicted probabilities) in order to evaluate the `app_test` using `ROC AUC`. The goal here is to get `ROC AUC` score higher than `0.5` or we can call this as random guessing model with 50% probability."
   ]
  },
  {
   "cell_type": "markdown",
   "id": "accomplished-signal",
   "metadata": {},
   "source": [
    "## Data preprocessing\n",
    "\n",
    "Before we start the modeling process, we need to preprocess the data first. Here are some crucial preprocessing steps we need to conduct:\n",
    "1. Impute missing values using median/mean. (only for Logistic Regression)\n",
    "    - Using `SimpleImputer` from `sklearn`.\n",
    "2. Scale the values of numerical features using standardization or normalization. (only for Logistic Regression)\n",
    "    - Using `StandardScaler` or `MinMaxScaler`  from `sklearn`.\n",
    "3. Encode the values of categorical features using one-hot-encoding for nominal unique values and ordinal encoding for ordinal unique values.\n",
    "    - Using `OneHotEncoder` or `OrdinalEncoder` from `sklearn`.\n",
    "\n",
    "All those preprocessing steps will be handled implicitly in the `Pipeline` object from `sklearn`."
   ]
  },
  {
   "cell_type": "markdown",
   "id": "allied-coupon",
   "metadata": {},
   "source": [
    "## Build, train, and evaluate model with no hyperparameter tuning\n",
    "\n",
    "Two machine learning algorithms are used:\n",
    "- Logistic Regression (no hyperparameter tuning).\n",
    "- LightGBM (no hyperparameter tuning). \n",
    "\n",
    "Below are to sum up the features names:\n",
    "- `num_columns`: contains numerical features from original source `application_train.csv`/`application_test.csv` after feature selection.\n",
    "- `cat_columns`: contains categorical features from original source `application_train.csv`/`application_test.csv` after feature selection in which divided into: \n",
    "    - `nom_columns`: contains nominal features.\n",
    "    - `ord_columns`: contains ordinal features.\n",
    "- `poly_columns`: contains polynomial features from `EXT_SOURCE_1`, `EXT_SOURCE_2`, and `EXT_SOURCE_3` features with degrees of 3.\n",
    "- `creation_columns`: contains domain knowledge features engineered from `application_train.csv`/`application_test.csv`.\n",
    "- `bureau_app_columns`: contains aggregated features from `bureau.csv` and `bureau_balance.csv`.\n",
    "- `previous_app_columns`: contains aggregated features from `previous_application.csv`, `credit_card_balance.csv`, `installments_payments.csv`, and `POS_CASH_balance.csv`.\n",
    "\n",
    "The code below are some functions to create feature `Pipeline` of data preprocessing step and other helpful function."
   ]
  },
  {
   "cell_type": "code",
   "execution_count": 5,
   "id": "impressive-daisy",
   "metadata": {},
   "outputs": [],
   "source": [
    "from sklearn.preprocessing import FunctionTransformer, MinMaxScaler, StandardScaler, OneHotEncoder, OrdinalEncoder\n",
    "from sklearn.pipeline import Pipeline, FeatureUnion\n",
    "from sklearn.impute import SimpleImputer\n",
    "from sklearn import metrics\n",
    "from sklearn.model_selection import cross_val_score, cross_validate, RandomizedSearchCV\n",
    "from lightgbm import plot_importance\n",
    "\n",
    "# helper function to get the feature preprocessing pipeline\n",
    "def get_feature_pipeline(numerical, nominal, ordinal, algorithm):\n",
    "    preprocess_numerical = FunctionTransformer(lambda x: x[numerical], validate = False)\n",
    "    preprocess_nominal = FunctionTransformer(lambda x: x[nominal], validate = False)\n",
    "    preprocess_ordinal = FunctionTransformer(lambda x: x[ordinal], validate = False)\n",
    "    if algorithm == 'Logistic Regression':\n",
    "        pl_numerical = Pipeline([('selector_numerical', preprocess_numerical),\n",
    "                                 ('imputer', SimpleImputer(strategy = 'median')),\n",
    "                                 ('scaler', MinMaxScaler())])                    \n",
    "        pl_nominal = Pipeline([('selector_nominal', preprocess_nominal),\n",
    "                               ('imputer', SimpleImputer(strategy = 'most_frequent')),\n",
    "                               ('encoder', OneHotEncoder())])\n",
    "        pl_ordinal = Pipeline([('selector_ordinal', preprocess_ordinal),\n",
    "                               ('imputer', SimpleImputer(strategy = 'most_frequent')),\n",
    "                               ('encoder', OrdinalEncoder())])\n",
    "        feature_pipeline = FeatureUnion([('pipeline_numerical', pl_numerical),\n",
    "                                         ('pipeline_nominal', pl_nominal),\n",
    "                                         ('pipeline_ordinal', pl_ordinal)])\n",
    "        return feature_pipeline\n",
    "    \n",
    "    elif algorithm == 'GBM':\n",
    "        pl_numerical = Pipeline([('selector_numerical', preprocess_numerical)])\n",
    "        pl_nominal = Pipeline([('selector_nominal', preprocess_nominal),\n",
    "                               ('encoder', OneHotEncoder())])\n",
    "        pl_ordinal = Pipeline([('selector_ordinal', preprocess_ordinal),\n",
    "                               ('encoder', OrdinalEncoder())])\n",
    "        feature_pipeline = FeatureUnion([('pipeline_numerical', pl_numerical),\n",
    "                                         ('pipeline_nominal', pl_nominal),\n",
    "                                         ('pipeline_ordinal', pl_ordinal)])\n",
    "        return feature_pipeline\n",
    "    else:\n",
    "        print('algorithm argument is wrong. Try \"Logistic Regression\" or \"GBM\"!')\n",
    "        return None\n",
    "\n",
    "# helper function to evaluate the model performance\n",
    "def model_evaluation(model, tuning, train, test, name):\n",
    "    \n",
    "    if tuning == True:\n",
    "        CV_score = model.best_score_\n",
    "        print('best CV ROC AUC scores:', round(CV_score, 3))\n",
    "    \n",
    "    # get the X feature matrix and y target vector of app_train and app_test\n",
    "    X_train = train.drop(['TARGET'], axis = 1); y_train = train[['TARGET']]\n",
    "    X_test = test\n",
    "    \n",
    "    # predict the model\n",
    "    y_pred_train = model.predict(X_train)\n",
    "    y_pred_proba_train = model.predict_proba(X_train)[:, 1]\n",
    "    y_pred_proba_test = model.predict_proba(X_test)[:, 1]\n",
    "    \n",
    "    # training model performance\n",
    "    accuracy_train = metrics.accuracy_score(y_train, y_pred_train)\n",
    "    roc_auc_train = metrics.roc_auc_score(y_train, y_pred_proba_train)\n",
    "    roc_auc_cv = cross_validate(estimator = model, X = X_train, y = y_train, cv = 5, scoring = 'roc_auc', return_train_score = True)\n",
    "    dict_model_performance = {'Accuracy train':accuracy_train.round(3),\n",
    "                              'ROC AUC 5-CV train':'{} ± {}'.format(roc_auc_cv['train_score'].mean().round(3), roc_auc_cv['train_score'].std().round(3)),\n",
    "                              'ROC AUC 5-CV validate':'{} ± {}'.format(roc_auc_cv['test_score'].mean().round(3), roc_auc_cv['test_score'].std().round(3)), \n",
    "                              'ROC AUC train':roc_auc_train.round(3)}\n",
    "    print('\\n')\n",
    "    print ('======== model evaluation metrics \"{}\" ========'.format(name))\n",
    "    print('confusion matrix and classification report \"app_train\": \\n{0}\\n{1}'.format(metrics.confusion_matrix(y_train, y_pred_train), \n",
    "                                                                                      metrics.classification_report(y_train, y_pred_train, target_names = ['repaid', 'not repaid'])))\n",
    "    df = pd.DataFrame([dict_model_performance])\n",
    "    df.rename(index = {0:name}, inplace = True)\n",
    "    return df, y_pred_proba_test\n",
    "\n",
    "def feature_importance(model,plot = True, max_num_features = 15, figsize = (6, 4)):\n",
    "    numerical = list(model[0].transformer_list[0][1].steps[0][1].transform(app_train).columns)\n",
    "    ordinal = list(model[0].transformer_list[2][1].steps[1][1].feature_names_in_)\n",
    "    nominal = list(model[0].transformer_list[1][1].steps[1][1].get_feature_names_out())\n",
    "    all_columns = numerical + ordinal + nominal\n",
    "    df = pd.DataFrame({'Feature':all_columns, 'Number of Split':model[1].feature_importances_}).sort_values('Number of Split', ascending = True).set_index('Feature')\n",
    "    if plot == True:\n",
    "        fig, ax = plt.subplots(figsize = figsize)\n",
    "        df.tail(max_num_features).plot(kind = 'barh', ax = ax)\n",
    "        ax.set_title('Feature Importance LGBM')\n",
    "        plt.show()\n",
    "    return df"
   ]
  },
  {
   "cell_type": "markdown",
   "id": "unnecessary-fluid",
   "metadata": {},
   "source": [
    "### Baseline model\n",
    "\n",
    "In this section, we'll try to train the model without feature engineering. This allow us to create the baseline model in which later we can compared this baseline model with other model using feature engineering."
   ]
  },
  {
   "cell_type": "markdown",
   "id": "third-editing",
   "metadata": {},
   "source": [
    "#### Logistic Regression"
   ]
  },
  {
   "cell_type": "code",
   "execution_count": 6,
   "id": "crazy-north",
   "metadata": {},
   "outputs": [
    {
     "name": "stdout",
     "output_type": "stream",
     "text": [
      "[Pipeline]  (step 1 of 2) Processing preprocessing_features, total=   7.8s\n",
      "[Pipeline] ............ (step 2 of 2) Processing LogReg, total=  12.7s\n",
      "done...\n",
      "Wall time: 21.3 s\n"
     ]
    }
   ],
   "source": [
    "%%time\n",
    "# create baseline model for Logistic Regression: LogReg_baseline\n",
    "from sklearn.linear_model import LogisticRegression\n",
    "\n",
    "LogReg_features_baseline = get_feature_pipeline(numerical = num_columns, \n",
    "                                                nominal = nom_columns, \n",
    "                                                ordinal = ord_columns, \n",
    "                                                algorithm = 'Logistic Regression')\n",
    "LogReg_baseline = Pipeline([('preprocessing_features', LogReg_features_baseline),\n",
    "                            ('LogReg', LogisticRegression(n_jobs = -1, class_weight = 'balanced'))], verbose = True)\n",
    "LogReg_baseline.fit(app_train.drop('TARGET', axis = 1),\n",
    "                    app_train[['TARGET']])\n",
    "print('done...')"
   ]
  },
  {
   "cell_type": "code",
   "execution_count": 7,
   "id": "rolled-austin",
   "metadata": {},
   "outputs": [
    {
     "name": "stdout",
     "output_type": "stream",
     "text": [
      "[Pipeline]  (step 1 of 2) Processing preprocessing_features, total=   7.8s\n",
      "[Pipeline] ............ (step 2 of 2) Processing LogReg, total=   8.9s\n",
      "[Pipeline]  (step 1 of 2) Processing preprocessing_features, total=   6.3s\n",
      "[Pipeline] ............ (step 2 of 2) Processing LogReg, total=   7.8s\n",
      "[Pipeline]  (step 1 of 2) Processing preprocessing_features, total=   5.7s\n",
      "[Pipeline] ............ (step 2 of 2) Processing LogReg, total=   8.6s\n",
      "[Pipeline]  (step 1 of 2) Processing preprocessing_features, total=   6.9s\n",
      "[Pipeline] ............ (step 2 of 2) Processing LogReg, total=   8.6s\n",
      "[Pipeline]  (step 1 of 2) Processing preprocessing_features, total=   5.6s\n",
      "[Pipeline] ............ (step 2 of 2) Processing LogReg, total=   9.1s\n",
      "\n",
      "\n",
      "======== model evaluation metrics \"LogReg_baseline\" ========\n",
      "confusion matrix and classification report \"app_train\": \n",
      "[[194163  88523]\n",
      " [  8082  16743]]\n",
      "              precision    recall  f1-score   support\n",
      "\n",
      "      repaid       0.96      0.69      0.80    282686\n",
      "  not repaid       0.16      0.67      0.26     24825\n",
      "\n",
      "    accuracy                           0.69    307511\n",
      "   macro avg       0.56      0.68      0.53    307511\n",
      "weighted avg       0.90      0.69      0.76    307511\n",
      "\n"
     ]
    },
    {
     "data": {
      "text/html": [
       "<div>\n",
       "<style scoped>\n",
       "    .dataframe tbody tr th:only-of-type {\n",
       "        vertical-align: middle;\n",
       "    }\n",
       "\n",
       "    .dataframe tbody tr th {\n",
       "        vertical-align: top;\n",
       "    }\n",
       "\n",
       "    .dataframe thead th {\n",
       "        text-align: right;\n",
       "    }\n",
       "</style>\n",
       "<table border=\"1\" class=\"dataframe\">\n",
       "  <thead>\n",
       "    <tr style=\"text-align: right;\">\n",
       "      <th></th>\n",
       "      <th>Accuracy train</th>\n",
       "      <th>ROC AUC 5-CV train</th>\n",
       "      <th>ROC AUC 5-CV validate</th>\n",
       "      <th>ROC AUC train</th>\n",
       "    </tr>\n",
       "  </thead>\n",
       "  <tbody>\n",
       "    <tr>\n",
       "      <th>LogReg_baseline</th>\n",
       "      <td>0.686</td>\n",
       "      <td>0.746 ± 0.001</td>\n",
       "      <td>0.743 ± 0.003</td>\n",
       "      <td>0.746</td>\n",
       "    </tr>\n",
       "  </tbody>\n",
       "</table>\n",
       "</div>"
      ],
      "text/plain": [
       "                 Accuracy train ROC AUC 5-CV train ROC AUC 5-CV validate  \\\n",
       "LogReg_baseline           0.686      0.746 ± 0.001         0.743 ± 0.003   \n",
       "\n",
       "                 ROC AUC train  \n",
       "LogReg_baseline          0.746  "
      ]
     },
     "metadata": {},
     "output_type": "display_data"
    },
    {
     "name": "stdout",
     "output_type": "stream",
     "text": [
      "Wall time: 1min 46s\n"
     ]
    }
   ],
   "source": [
    "%%time\n",
    "# evaluate LogReg_baseline\n",
    "df_LogReg_baseline, y_pred_proba_test = model_evaluation(model = LogReg_baseline, \n",
    "                                                         tuning = False, \n",
    "                                                         train = app_train, \n",
    "                                                         test = app_test, \n",
    "                                                         name = 'LogReg_baseline')\n",
    "display(df_LogReg_baseline)"
   ]
  },
  {
   "cell_type": "code",
   "execution_count": 8,
   "id": "federal-aside",
   "metadata": {},
   "outputs": [
    {
     "data": {
      "text/html": [
       "<div>\n",
       "<style scoped>\n",
       "    .dataframe tbody tr th:only-of-type {\n",
       "        vertical-align: middle;\n",
       "    }\n",
       "\n",
       "    .dataframe tbody tr th {\n",
       "        vertical-align: top;\n",
       "    }\n",
       "\n",
       "    .dataframe thead th {\n",
       "        text-align: right;\n",
       "    }\n",
       "</style>\n",
       "<table border=\"1\" class=\"dataframe\">\n",
       "  <thead>\n",
       "    <tr style=\"text-align: right;\">\n",
       "      <th></th>\n",
       "      <th>SK_ID_CURR</th>\n",
       "      <th>TARGET</th>\n",
       "    </tr>\n",
       "  </thead>\n",
       "  <tbody>\n",
       "    <tr>\n",
       "      <th>0</th>\n",
       "      <td>100001</td>\n",
       "      <td>0.385175</td>\n",
       "    </tr>\n",
       "    <tr>\n",
       "      <th>1</th>\n",
       "      <td>100005</td>\n",
       "      <td>0.754684</td>\n",
       "    </tr>\n",
       "    <tr>\n",
       "      <th>2</th>\n",
       "      <td>100013</td>\n",
       "      <td>0.277328</td>\n",
       "    </tr>\n",
       "    <tr>\n",
       "      <th>3</th>\n",
       "      <td>100028</td>\n",
       "      <td>0.351405</td>\n",
       "    </tr>\n",
       "    <tr>\n",
       "      <th>4</th>\n",
       "      <td>100038</td>\n",
       "      <td>0.650782</td>\n",
       "    </tr>\n",
       "  </tbody>\n",
       "</table>\n",
       "</div>"
      ],
      "text/plain": [
       "   SK_ID_CURR    TARGET\n",
       "0      100001  0.385175\n",
       "1      100005  0.754684\n",
       "2      100013  0.277328\n",
       "3      100028  0.351405\n",
       "4      100038  0.650782"
      ]
     },
     "execution_count": 8,
     "metadata": {},
     "output_type": "execute_result"
    }
   ],
   "source": [
    "# create submission dataframe and save the submission to a csv file\n",
    "df_submit = app_test[['SK_ID_CURR']].copy()\n",
    "df_submit['TARGET'] = y_pred_proba_test\n",
    "df_submit.to_csv('submission/LogReg_baseline.csv', index = False)\n",
    "df_submit.head()"
   ]
  },
  {
   "cell_type": "code",
   "execution_count": 9,
   "id": "endless-sugar",
   "metadata": {},
   "outputs": [
    {
     "data": {
      "text/html": [
       "<div>\n",
       "<style scoped>\n",
       "    .dataframe tbody tr th:only-of-type {\n",
       "        vertical-align: middle;\n",
       "    }\n",
       "\n",
       "    .dataframe tbody tr th {\n",
       "        vertical-align: top;\n",
       "    }\n",
       "\n",
       "    .dataframe thead th {\n",
       "        text-align: right;\n",
       "    }\n",
       "</style>\n",
       "<table border=\"1\" class=\"dataframe\">\n",
       "  <thead>\n",
       "    <tr style=\"text-align: right;\">\n",
       "      <th></th>\n",
       "      <th>Accuracy train</th>\n",
       "      <th>ROC AUC 5-CV train</th>\n",
       "      <th>ROC AUC 5-CV validate</th>\n",
       "      <th>ROC AUC train</th>\n",
       "      <th>ROC AUC test</th>\n",
       "    </tr>\n",
       "  </thead>\n",
       "  <tbody>\n",
       "    <tr>\n",
       "      <th>LogReg_baseline</th>\n",
       "      <td>0.686</td>\n",
       "      <td>0.746 ± 0.001</td>\n",
       "      <td>0.743 ± 0.003</td>\n",
       "      <td>0.746</td>\n",
       "      <td>0.73</td>\n",
       "    </tr>\n",
       "  </tbody>\n",
       "</table>\n",
       "</div>"
      ],
      "text/plain": [
       "                 Accuracy train ROC AUC 5-CV train ROC AUC 5-CV validate  \\\n",
       "LogReg_baseline           0.686      0.746 ± 0.001         0.743 ± 0.003   \n",
       "\n",
       "                 ROC AUC train  ROC AUC test  \n",
       "LogReg_baseline          0.746          0.73  "
      ]
     },
     "execution_count": 9,
     "metadata": {},
     "output_type": "execute_result"
    }
   ],
   "source": [
    "df_LogReg_baseline['ROC AUC test'] = round(0.72998, 3)\n",
    "df_LogReg_baseline"
   ]
  },
  {
   "cell_type": "markdown",
   "id": "polar-offset",
   "metadata": {},
   "source": [
    "- The `ROC AUC test` score is obtained after submit the submission file to [Kaggle](https://www.kaggle.com/competitions/home-credit-default-risk/overview) that is `0.72998`"
   ]
  },
  {
   "cell_type": "markdown",
   "id": "closed-window",
   "metadata": {},
   "source": [
    "#### LightGBM"
   ]
  },
  {
   "cell_type": "code",
   "execution_count": 6,
   "id": "straight-skating",
   "metadata": {},
   "outputs": [
    {
     "name": "stdout",
     "output_type": "stream",
     "text": [
      "[Pipeline]  (step 1 of 2) Processing preprocessing_features, total=   3.7s\n",
      "[Pipeline] .............. (step 2 of 2) Processing LGBM, total=   4.7s\n",
      "done...\n",
      "Wall time: 8.95 s\n"
     ]
    }
   ],
   "source": [
    "%%time\n",
    "# create baseline model for LGBM: LGBM_baseline \n",
    "from lightgbm import LGBMClassifier\n",
    "\n",
    "LGBM_features_baseline = get_feature_pipeline(numerical = num_columns, \n",
    "                                              nominal = nom_columns, \n",
    "                                              ordinal = ord_columns, \n",
    "                                              algorithm = 'GBM')\n",
    "LGBM_baseline = Pipeline([('preprocessing_features', LGBM_features_baseline),\n",
    "                          ('LGBM', LGBMClassifier(n_jobs = -1, class_weight = 'balanced', \n",
    "                                                  objective = 'binary', reg_alpha = 0.1, reg_lambda = 0.1,\n",
    "                                                  random_state = 42, subsample = 0.9))], verbose = True)\n",
    "LGBM_baseline.fit(app_train.drop('TARGET', axis = 1),\n",
    "                  app_train[['TARGET']])\n",
    "print('done...')"
   ]
  },
  {
   "cell_type": "code",
   "execution_count": 7,
   "id": "rolled-diversity",
   "metadata": {},
   "outputs": [
    {
     "name": "stdout",
     "output_type": "stream",
     "text": [
      "[Pipeline]  (step 1 of 2) Processing preprocessing_features, total=   2.9s\n",
      "[Pipeline] .............. (step 2 of 2) Processing LGBM, total=   4.1s\n",
      "[Pipeline]  (step 1 of 2) Processing preprocessing_features, total=   2.7s\n",
      "[Pipeline] .............. (step 2 of 2) Processing LGBM, total=   4.1s\n",
      "[Pipeline]  (step 1 of 2) Processing preprocessing_features, total=   2.7s\n",
      "[Pipeline] .............. (step 2 of 2) Processing LGBM, total=   5.1s\n",
      "[Pipeline]  (step 1 of 2) Processing preprocessing_features, total=   2.8s\n",
      "[Pipeline] .............. (step 2 of 2) Processing LGBM, total=   4.4s\n",
      "[Pipeline]  (step 1 of 2) Processing preprocessing_features, total=   2.7s\n",
      "[Pipeline] .............. (step 2 of 2) Processing LGBM, total=   4.1s\n",
      "\n",
      "\n",
      "======== model evaluation metrics \"LGBM_baseline\" ========\n",
      "confusion matrix and classification report \"app_train\": \n",
      "[[201199  81487]\n",
      " [  7070  17755]]\n",
      "              precision    recall  f1-score   support\n",
      "\n",
      "      repaid       0.97      0.71      0.82    282686\n",
      "  not repaid       0.18      0.72      0.29     24825\n",
      "\n",
      "    accuracy                           0.71    307511\n",
      "   macro avg       0.57      0.71      0.55    307511\n",
      "weighted avg       0.90      0.71      0.78    307511\n",
      "\n"
     ]
    },
    {
     "data": {
      "text/html": [
       "<div>\n",
       "<style scoped>\n",
       "    .dataframe tbody tr th:only-of-type {\n",
       "        vertical-align: middle;\n",
       "    }\n",
       "\n",
       "    .dataframe tbody tr th {\n",
       "        vertical-align: top;\n",
       "    }\n",
       "\n",
       "    .dataframe thead th {\n",
       "        text-align: right;\n",
       "    }\n",
       "</style>\n",
       "<table border=\"1\" class=\"dataframe\">\n",
       "  <thead>\n",
       "    <tr style=\"text-align: right;\">\n",
       "      <th></th>\n",
       "      <th>Accuracy train</th>\n",
       "      <th>ROC AUC 5-CV train</th>\n",
       "      <th>ROC AUC 5-CV validate</th>\n",
       "      <th>ROC AUC train</th>\n",
       "    </tr>\n",
       "  </thead>\n",
       "  <tbody>\n",
       "    <tr>\n",
       "      <th>LGBM_baseline</th>\n",
       "      <td>0.712</td>\n",
       "      <td>0.797 ± 0.0</td>\n",
       "      <td>0.757 ± 0.004</td>\n",
       "      <td>0.79</td>\n",
       "    </tr>\n",
       "  </tbody>\n",
       "</table>\n",
       "</div>"
      ],
      "text/plain": [
       "               Accuracy train ROC AUC 5-CV train ROC AUC 5-CV validate  \\\n",
       "LGBM_baseline           0.712        0.797 ± 0.0         0.757 ± 0.004   \n",
       "\n",
       "               ROC AUC train  \n",
       "LGBM_baseline           0.79  "
      ]
     },
     "metadata": {},
     "output_type": "display_data"
    },
    {
     "name": "stdout",
     "output_type": "stream",
     "text": [
      "Wall time: 1min 9s\n"
     ]
    }
   ],
   "source": [
    "%%time\n",
    "# evaluate LGBM_baseline\n",
    "df_LGBM_baseline, y_pred_proba_test = model_evaluation(model = LGBM_baseline, \n",
    "                                                       tuning = False, \n",
    "                                                       train = app_train, \n",
    "                                                       test = app_test, \n",
    "                                                       name = 'LGBM_baseline')\n",
    "display(df_LGBM_baseline)"
   ]
  },
  {
   "cell_type": "code",
   "execution_count": 11,
   "id": "liked-authentication",
   "metadata": {},
   "outputs": [
    {
     "data": {
      "text/html": [
       "<div>\n",
       "<style scoped>\n",
       "    .dataframe tbody tr th:only-of-type {\n",
       "        vertical-align: middle;\n",
       "    }\n",
       "\n",
       "    .dataframe tbody tr th {\n",
       "        vertical-align: top;\n",
       "    }\n",
       "\n",
       "    .dataframe thead th {\n",
       "        text-align: right;\n",
       "    }\n",
       "</style>\n",
       "<table border=\"1\" class=\"dataframe\">\n",
       "  <thead>\n",
       "    <tr style=\"text-align: right;\">\n",
       "      <th></th>\n",
       "      <th>SK_ID_CURR</th>\n",
       "      <th>TARGET</th>\n",
       "    </tr>\n",
       "  </thead>\n",
       "  <tbody>\n",
       "    <tr>\n",
       "      <th>0</th>\n",
       "      <td>100001</td>\n",
       "      <td>0.316399</td>\n",
       "    </tr>\n",
       "    <tr>\n",
       "      <th>1</th>\n",
       "      <td>100005</td>\n",
       "      <td>0.584404</td>\n",
       "    </tr>\n",
       "    <tr>\n",
       "      <th>2</th>\n",
       "      <td>100013</td>\n",
       "      <td>0.207880</td>\n",
       "    </tr>\n",
       "    <tr>\n",
       "      <th>3</th>\n",
       "      <td>100028</td>\n",
       "      <td>0.276125</td>\n",
       "    </tr>\n",
       "    <tr>\n",
       "      <th>4</th>\n",
       "      <td>100038</td>\n",
       "      <td>0.661614</td>\n",
       "    </tr>\n",
       "  </tbody>\n",
       "</table>\n",
       "</div>"
      ],
      "text/plain": [
       "   SK_ID_CURR    TARGET\n",
       "0      100001  0.316399\n",
       "1      100005  0.584404\n",
       "2      100013  0.207880\n",
       "3      100028  0.276125\n",
       "4      100038  0.661614"
      ]
     },
     "execution_count": 11,
     "metadata": {},
     "output_type": "execute_result"
    }
   ],
   "source": [
    "# create submission dataframe and save the submission to a csv file\n",
    "df_submit = app_test[['SK_ID_CURR']].copy()\n",
    "df_submit['TARGET'] = y_pred_proba_test\n",
    "df_submit.to_csv('submission/LGBM_baseline.csv', index = False)\n",
    "df_submit.head()"
   ]
  },
  {
   "cell_type": "code",
   "execution_count": 12,
   "id": "blank-undergraduate",
   "metadata": {},
   "outputs": [
    {
     "data": {
      "text/html": [
       "<div>\n",
       "<style scoped>\n",
       "    .dataframe tbody tr th:only-of-type {\n",
       "        vertical-align: middle;\n",
       "    }\n",
       "\n",
       "    .dataframe tbody tr th {\n",
       "        vertical-align: top;\n",
       "    }\n",
       "\n",
       "    .dataframe thead th {\n",
       "        text-align: right;\n",
       "    }\n",
       "</style>\n",
       "<table border=\"1\" class=\"dataframe\">\n",
       "  <thead>\n",
       "    <tr style=\"text-align: right;\">\n",
       "      <th></th>\n",
       "      <th>Accuracy train</th>\n",
       "      <th>ROC AUC 5-CV train</th>\n",
       "      <th>ROC AUC 5-CV validate</th>\n",
       "      <th>ROC AUC train</th>\n",
       "      <th>ROC AUC test</th>\n",
       "    </tr>\n",
       "  </thead>\n",
       "  <tbody>\n",
       "    <tr>\n",
       "      <th>LGBM_baseline</th>\n",
       "      <td>0.712</td>\n",
       "      <td>0.797 ± 0.0</td>\n",
       "      <td>0.757 ± 0.004</td>\n",
       "      <td>0.79</td>\n",
       "      <td>0.74</td>\n",
       "    </tr>\n",
       "  </tbody>\n",
       "</table>\n",
       "</div>"
      ],
      "text/plain": [
       "               Accuracy train ROC AUC 5-CV train ROC AUC 5-CV validate  \\\n",
       "LGBM_baseline           0.712        0.797 ± 0.0         0.757 ± 0.004   \n",
       "\n",
       "               ROC AUC train  ROC AUC test  \n",
       "LGBM_baseline           0.79          0.74  "
      ]
     },
     "execution_count": 12,
     "metadata": {},
     "output_type": "execute_result"
    }
   ],
   "source": [
    "df_LGBM_baseline['ROC AUC test'] = round(0.73993, 3)\n",
    "df_LGBM_baseline"
   ]
  },
  {
   "cell_type": "markdown",
   "id": "herbal-nomination",
   "metadata": {},
   "source": [
    "- The `ROC AUC test` score is obtained after submit the submission file to [Kaggle](https://www.kaggle.com/competitions/home-credit-default-risk/overview) that is `0.73993`"
   ]
  },
  {
   "cell_type": "markdown",
   "id": "empirical-holocaust",
   "metadata": {},
   "source": [
    "### Using polynomial features"
   ]
  },
  {
   "cell_type": "markdown",
   "id": "cosmetic-probe",
   "metadata": {},
   "source": [
    "#### Logistic Regression"
   ]
  },
  {
   "cell_type": "code",
   "execution_count": 14,
   "id": "external-seven",
   "metadata": {},
   "outputs": [
    {
     "name": "stdout",
     "output_type": "stream",
     "text": [
      "[Pipeline]  (step 1 of 2) Processing preprocessing_features, total=   9.8s\n",
      "[Pipeline] ............ (step 2 of 2) Processing LogReg, total=  13.7s\n",
      "done...\n",
      "Wall time: 25.2 s\n"
     ]
    }
   ],
   "source": [
    "%%time\n",
    "# create model for Logistic Regression: LogReg_poly\n",
    "from sklearn.linear_model import LogisticRegression\n",
    "\n",
    "LogReg_features_poly = get_feature_pipeline(numerical = num_columns + poly_columns, \n",
    "                                            nominal = nom_columns, \n",
    "                                            ordinal = ord_columns, \n",
    "                                            algorithm = 'Logistic Regression')\n",
    "LogReg_poly = Pipeline([('preprocessing_features', LogReg_features_poly),\n",
    "                        ('LogReg', LogisticRegression(n_jobs = -1, class_weight = 'balanced'))], verbose = True)\n",
    "LogReg_poly.fit(app_train.drop('TARGET', axis = 1),\n",
    "                app_train[['TARGET']])\n",
    "print('done...')"
   ]
  },
  {
   "cell_type": "code",
   "execution_count": 15,
   "id": "smooth-interaction",
   "metadata": {},
   "outputs": [
    {
     "name": "stdout",
     "output_type": "stream",
     "text": [
      "[Pipeline]  (step 1 of 2) Processing preprocessing_features, total=  10.1s\n",
      "[Pipeline] ............ (step 2 of 2) Processing LogReg, total=  12.0s\n",
      "[Pipeline]  (step 1 of 2) Processing preprocessing_features, total=   7.7s\n",
      "[Pipeline] ............ (step 2 of 2) Processing LogReg, total=   9.5s\n",
      "[Pipeline]  (step 1 of 2) Processing preprocessing_features, total=  11.1s\n",
      "[Pipeline] ............ (step 2 of 2) Processing LogReg, total=  12.1s\n",
      "[Pipeline]  (step 1 of 2) Processing preprocessing_features, total=   7.5s\n",
      "[Pipeline] ............ (step 2 of 2) Processing LogReg, total=  10.9s\n",
      "[Pipeline]  (step 1 of 2) Processing preprocessing_features, total=   7.2s\n",
      "[Pipeline] ............ (step 2 of 2) Processing LogReg, total=   9.7s\n",
      "\n",
      "\n",
      "======== model evaluation metrics \"LogReg_poly\" ========\n",
      "confusion matrix and classification report \"app_train\": \n",
      "[[193705  88981]\n",
      " [  8048  16777]]\n",
      "              precision    recall  f1-score   support\n",
      "\n",
      "      repaid       0.96      0.69      0.80    282686\n",
      "  not repaid       0.16      0.68      0.26     24825\n",
      "\n",
      "    accuracy                           0.68    307511\n",
      "   macro avg       0.56      0.68      0.53    307511\n",
      "weighted avg       0.90      0.68      0.76    307511\n",
      "\n"
     ]
    },
    {
     "data": {
      "text/html": [
       "<div>\n",
       "<style scoped>\n",
       "    .dataframe tbody tr th:only-of-type {\n",
       "        vertical-align: middle;\n",
       "    }\n",
       "\n",
       "    .dataframe tbody tr th {\n",
       "        vertical-align: top;\n",
       "    }\n",
       "\n",
       "    .dataframe thead th {\n",
       "        text-align: right;\n",
       "    }\n",
       "</style>\n",
       "<table border=\"1\" class=\"dataframe\">\n",
       "  <thead>\n",
       "    <tr style=\"text-align: right;\">\n",
       "      <th></th>\n",
       "      <th>Accuracy train</th>\n",
       "      <th>ROC AUC 5-CV train</th>\n",
       "      <th>ROC AUC 5-CV validate</th>\n",
       "      <th>ROC AUC train</th>\n",
       "    </tr>\n",
       "  </thead>\n",
       "  <tbody>\n",
       "    <tr>\n",
       "      <th>LogReg_poly</th>\n",
       "      <td>0.684</td>\n",
       "      <td>0.746 ± 0.001</td>\n",
       "      <td>0.744 ± 0.003</td>\n",
       "      <td>0.746</td>\n",
       "    </tr>\n",
       "  </tbody>\n",
       "</table>\n",
       "</div>"
      ],
      "text/plain": [
       "             Accuracy train ROC AUC 5-CV train ROC AUC 5-CV validate  \\\n",
       "LogReg_poly           0.684      0.746 ± 0.001         0.744 ± 0.003   \n",
       "\n",
       "             ROC AUC train  \n",
       "LogReg_poly          0.746  "
      ]
     },
     "metadata": {},
     "output_type": "display_data"
    },
    {
     "name": "stdout",
     "output_type": "stream",
     "text": [
      "Wall time: 2min 16s\n"
     ]
    }
   ],
   "source": [
    "%%time\n",
    "# evaluate LogReg_poly\n",
    "df_LogReg_poly, y_pred_proba_test = model_evaluation(model = LogReg_poly, \n",
    "                                                     tuning = False, \n",
    "                                                     train = app_train, \n",
    "                                                     test = app_test, \n",
    "                                                     name = 'LogReg_poly')\n",
    "display(df_LogReg_poly)"
   ]
  },
  {
   "cell_type": "code",
   "execution_count": 16,
   "id": "better-highway",
   "metadata": {},
   "outputs": [
    {
     "data": {
      "text/html": [
       "<div>\n",
       "<style scoped>\n",
       "    .dataframe tbody tr th:only-of-type {\n",
       "        vertical-align: middle;\n",
       "    }\n",
       "\n",
       "    .dataframe tbody tr th {\n",
       "        vertical-align: top;\n",
       "    }\n",
       "\n",
       "    .dataframe thead th {\n",
       "        text-align: right;\n",
       "    }\n",
       "</style>\n",
       "<table border=\"1\" class=\"dataframe\">\n",
       "  <thead>\n",
       "    <tr style=\"text-align: right;\">\n",
       "      <th></th>\n",
       "      <th>SK_ID_CURR</th>\n",
       "      <th>TARGET</th>\n",
       "    </tr>\n",
       "  </thead>\n",
       "  <tbody>\n",
       "    <tr>\n",
       "      <th>0</th>\n",
       "      <td>100001</td>\n",
       "      <td>0.392892</td>\n",
       "    </tr>\n",
       "    <tr>\n",
       "      <th>1</th>\n",
       "      <td>100005</td>\n",
       "      <td>0.744332</td>\n",
       "    </tr>\n",
       "    <tr>\n",
       "      <th>2</th>\n",
       "      <td>100013</td>\n",
       "      <td>0.255074</td>\n",
       "    </tr>\n",
       "    <tr>\n",
       "      <th>3</th>\n",
       "      <td>100028</td>\n",
       "      <td>0.354664</td>\n",
       "    </tr>\n",
       "    <tr>\n",
       "      <th>4</th>\n",
       "      <td>100038</td>\n",
       "      <td>0.629516</td>\n",
       "    </tr>\n",
       "  </tbody>\n",
       "</table>\n",
       "</div>"
      ],
      "text/plain": [
       "   SK_ID_CURR    TARGET\n",
       "0      100001  0.392892\n",
       "1      100005  0.744332\n",
       "2      100013  0.255074\n",
       "3      100028  0.354664\n",
       "4      100038  0.629516"
      ]
     },
     "execution_count": 16,
     "metadata": {},
     "output_type": "execute_result"
    }
   ],
   "source": [
    "# create submission dataframe and save the submission to a csv file\n",
    "df_submit = app_test[['SK_ID_CURR']].copy()\n",
    "df_submit['TARGET'] = y_pred_proba_test\n",
    "df_submit.to_csv('submission/LogReg_poly.csv', index = False)\n",
    "df_submit.head()"
   ]
  },
  {
   "cell_type": "code",
   "execution_count": 17,
   "id": "exterior-wrong",
   "metadata": {},
   "outputs": [
    {
     "data": {
      "text/html": [
       "<div>\n",
       "<style scoped>\n",
       "    .dataframe tbody tr th:only-of-type {\n",
       "        vertical-align: middle;\n",
       "    }\n",
       "\n",
       "    .dataframe tbody tr th {\n",
       "        vertical-align: top;\n",
       "    }\n",
       "\n",
       "    .dataframe thead th {\n",
       "        text-align: right;\n",
       "    }\n",
       "</style>\n",
       "<table border=\"1\" class=\"dataframe\">\n",
       "  <thead>\n",
       "    <tr style=\"text-align: right;\">\n",
       "      <th></th>\n",
       "      <th>Accuracy train</th>\n",
       "      <th>ROC AUC 5-CV train</th>\n",
       "      <th>ROC AUC 5-CV validate</th>\n",
       "      <th>ROC AUC train</th>\n",
       "      <th>ROC AUC test</th>\n",
       "    </tr>\n",
       "  </thead>\n",
       "  <tbody>\n",
       "    <tr>\n",
       "      <th>LogReg_poly</th>\n",
       "      <td>0.684</td>\n",
       "      <td>0.746 ± 0.001</td>\n",
       "      <td>0.744 ± 0.003</td>\n",
       "      <td>0.746</td>\n",
       "      <td>0.73</td>\n",
       "    </tr>\n",
       "  </tbody>\n",
       "</table>\n",
       "</div>"
      ],
      "text/plain": [
       "             Accuracy train ROC AUC 5-CV train ROC AUC 5-CV validate  \\\n",
       "LogReg_poly           0.684      0.746 ± 0.001         0.744 ± 0.003   \n",
       "\n",
       "             ROC AUC train  ROC AUC test  \n",
       "LogReg_poly          0.746          0.73  "
      ]
     },
     "execution_count": 17,
     "metadata": {},
     "output_type": "execute_result"
    }
   ],
   "source": [
    "df_LogReg_poly['ROC AUC test'] = round(0.73014, 3)\n",
    "df_LogReg_poly"
   ]
  },
  {
   "cell_type": "markdown",
   "id": "convenient-hebrew",
   "metadata": {},
   "source": [
    "- The `ROC AUC test` score is obtained after submit the submission file to [Kaggle](https://www.kaggle.com/competitions/home-credit-default-risk/overview) that is `0.73014`"
   ]
  },
  {
   "cell_type": "markdown",
   "id": "molecular-communist",
   "metadata": {},
   "source": [
    "#### LightGBM"
   ]
  },
  {
   "cell_type": "code",
   "execution_count": 18,
   "id": "consecutive-albany",
   "metadata": {},
   "outputs": [
    {
     "name": "stdout",
     "output_type": "stream",
     "text": [
      "[Pipeline]  (step 1 of 2) Processing preprocessing_features, total=   5.3s\n",
      "[Pipeline] .............. (step 2 of 2) Processing LGBM, total=   8.6s\n",
      "done...\n",
      "Wall time: 17.6 s\n"
     ]
    }
   ],
   "source": [
    "%%time\n",
    "# create model for LGBM: LGBM_poly \n",
    "from lightgbm import LGBMClassifier\n",
    "\n",
    "LGBM_features_poly = get_feature_pipeline(numerical = num_columns + poly_columns, \n",
    "                                          nominal = nom_columns, \n",
    "                                          ordinal = ord_columns, \n",
    "                                          algorithm = 'GBM')\n",
    "LGBM_poly = Pipeline([('preprocessing_features', LGBM_features_poly),\n",
    "                      ('LGBM', LGBMClassifier(n_jobs = -1, class_weight = 'balanced', \n",
    "                                              objective = 'binary', reg_alpha = 0.1, reg_lambda = 0.1,\n",
    "                                              random_state = 42, subsample = 0.9))], verbose = True)\n",
    "LGBM_poly.fit(app_train.drop('TARGET', axis = 1),\n",
    "              app_train[['TARGET']])\n",
    "print('done...')"
   ]
  },
  {
   "cell_type": "code",
   "execution_count": 19,
   "id": "after-processor",
   "metadata": {},
   "outputs": [
    {
     "name": "stdout",
     "output_type": "stream",
     "text": [
      "[Pipeline]  (step 1 of 2) Processing preprocessing_features, total=   6.1s\n",
      "[Pipeline] .............. (step 2 of 2) Processing LGBM, total=   7.7s\n",
      "[Pipeline]  (step 1 of 2) Processing preprocessing_features, total=   3.7s\n",
      "[Pipeline] .............. (step 2 of 2) Processing LGBM, total=   7.7s\n",
      "[Pipeline]  (step 1 of 2) Processing preprocessing_features, total=   3.6s\n",
      "[Pipeline] .............. (step 2 of 2) Processing LGBM, total=   8.7s\n",
      "[Pipeline]  (step 1 of 2) Processing preprocessing_features, total=   3.6s\n",
      "[Pipeline] .............. (step 2 of 2) Processing LGBM, total=   7.5s\n",
      "[Pipeline]  (step 1 of 2) Processing preprocessing_features, total=   4.1s\n",
      "[Pipeline] .............. (step 2 of 2) Processing LGBM, total=   9.2s\n",
      "\n",
      "\n",
      "======== model evaluation metrics \"LGBM_poly\" ========\n",
      "confusion matrix and classification report \"app_train\": \n",
      "[[199958  82728]\n",
      " [  6965  17860]]\n",
      "              precision    recall  f1-score   support\n",
      "\n",
      "      repaid       0.97      0.71      0.82    282686\n",
      "  not repaid       0.18      0.72      0.28     24825\n",
      "\n",
      "    accuracy                           0.71    307511\n",
      "   macro avg       0.57      0.71      0.55    307511\n",
      "weighted avg       0.90      0.71      0.77    307511\n",
      "\n"
     ]
    },
    {
     "data": {
      "text/html": [
       "<div>\n",
       "<style scoped>\n",
       "    .dataframe tbody tr th:only-of-type {\n",
       "        vertical-align: middle;\n",
       "    }\n",
       "\n",
       "    .dataframe tbody tr th {\n",
       "        vertical-align: top;\n",
       "    }\n",
       "\n",
       "    .dataframe thead th {\n",
       "        text-align: right;\n",
       "    }\n",
       "</style>\n",
       "<table border=\"1\" class=\"dataframe\">\n",
       "  <thead>\n",
       "    <tr style=\"text-align: right;\">\n",
       "      <th></th>\n",
       "      <th>Accuracy train</th>\n",
       "      <th>ROC AUC 5-CV train</th>\n",
       "      <th>ROC AUC 5-CV validate</th>\n",
       "      <th>ROC AUC train</th>\n",
       "    </tr>\n",
       "  </thead>\n",
       "  <tbody>\n",
       "    <tr>\n",
       "      <th>LGBM_poly</th>\n",
       "      <td>0.708</td>\n",
       "      <td>0.797 ± 0.001</td>\n",
       "      <td>0.757 ± 0.003</td>\n",
       "      <td>0.79</td>\n",
       "    </tr>\n",
       "  </tbody>\n",
       "</table>\n",
       "</div>"
      ],
      "text/plain": [
       "           Accuracy train ROC AUC 5-CV train ROC AUC 5-CV validate  \\\n",
       "LGBM_poly           0.708      0.797 ± 0.001         0.757 ± 0.003   \n",
       "\n",
       "           ROC AUC train  \n",
       "LGBM_poly           0.79  "
      ]
     },
     "metadata": {},
     "output_type": "display_data"
    },
    {
     "name": "stdout",
     "output_type": "stream",
     "text": [
      "Wall time: 1min 51s\n"
     ]
    }
   ],
   "source": [
    "%%time\n",
    "# evaluate LGBM_poly\n",
    "df_LGBM_poly, y_pred_proba_test = model_evaluation(model = LGBM_poly, \n",
    "                                                   tuning = False, \n",
    "                                                   train = app_train, \n",
    "                                                   test = app_test, \n",
    "                                                   name = 'LGBM_poly')\n",
    "display(df_LGBM_poly)"
   ]
  },
  {
   "cell_type": "code",
   "execution_count": 20,
   "id": "ordered-ottawa",
   "metadata": {},
   "outputs": [
    {
     "data": {
      "text/html": [
       "<div>\n",
       "<style scoped>\n",
       "    .dataframe tbody tr th:only-of-type {\n",
       "        vertical-align: middle;\n",
       "    }\n",
       "\n",
       "    .dataframe tbody tr th {\n",
       "        vertical-align: top;\n",
       "    }\n",
       "\n",
       "    .dataframe thead th {\n",
       "        text-align: right;\n",
       "    }\n",
       "</style>\n",
       "<table border=\"1\" class=\"dataframe\">\n",
       "  <thead>\n",
       "    <tr style=\"text-align: right;\">\n",
       "      <th></th>\n",
       "      <th>SK_ID_CURR</th>\n",
       "      <th>TARGET</th>\n",
       "    </tr>\n",
       "  </thead>\n",
       "  <tbody>\n",
       "    <tr>\n",
       "      <th>0</th>\n",
       "      <td>100001</td>\n",
       "      <td>0.303771</td>\n",
       "    </tr>\n",
       "    <tr>\n",
       "      <th>1</th>\n",
       "      <td>100005</td>\n",
       "      <td>0.583877</td>\n",
       "    </tr>\n",
       "    <tr>\n",
       "      <th>2</th>\n",
       "      <td>100013</td>\n",
       "      <td>0.161080</td>\n",
       "    </tr>\n",
       "    <tr>\n",
       "      <th>3</th>\n",
       "      <td>100028</td>\n",
       "      <td>0.252024</td>\n",
       "    </tr>\n",
       "    <tr>\n",
       "      <th>4</th>\n",
       "      <td>100038</td>\n",
       "      <td>0.684486</td>\n",
       "    </tr>\n",
       "  </tbody>\n",
       "</table>\n",
       "</div>"
      ],
      "text/plain": [
       "   SK_ID_CURR    TARGET\n",
       "0      100001  0.303771\n",
       "1      100005  0.583877\n",
       "2      100013  0.161080\n",
       "3      100028  0.252024\n",
       "4      100038  0.684486"
      ]
     },
     "execution_count": 20,
     "metadata": {},
     "output_type": "execute_result"
    }
   ],
   "source": [
    "# create submission dataframe and save the submission to a csv file\n",
    "df_submit = app_test[['SK_ID_CURR']].copy()\n",
    "df_submit['TARGET'] = y_pred_proba_test\n",
    "df_submit.to_csv('submission/LGBM_poly.csv', index = False)\n",
    "df_submit.head()"
   ]
  },
  {
   "cell_type": "code",
   "execution_count": 21,
   "id": "narrative-deployment",
   "metadata": {},
   "outputs": [
    {
     "data": {
      "text/html": [
       "<div>\n",
       "<style scoped>\n",
       "    .dataframe tbody tr th:only-of-type {\n",
       "        vertical-align: middle;\n",
       "    }\n",
       "\n",
       "    .dataframe tbody tr th {\n",
       "        vertical-align: top;\n",
       "    }\n",
       "\n",
       "    .dataframe thead th {\n",
       "        text-align: right;\n",
       "    }\n",
       "</style>\n",
       "<table border=\"1\" class=\"dataframe\">\n",
       "  <thead>\n",
       "    <tr style=\"text-align: right;\">\n",
       "      <th></th>\n",
       "      <th>Accuracy train</th>\n",
       "      <th>ROC AUC 5-CV train</th>\n",
       "      <th>ROC AUC 5-CV validate</th>\n",
       "      <th>ROC AUC train</th>\n",
       "      <th>ROC AUC test</th>\n",
       "    </tr>\n",
       "  </thead>\n",
       "  <tbody>\n",
       "    <tr>\n",
       "      <th>LGBM_poly</th>\n",
       "      <td>0.708</td>\n",
       "      <td>0.797 ± 0.001</td>\n",
       "      <td>0.757 ± 0.003</td>\n",
       "      <td>0.79</td>\n",
       "      <td>0.741</td>\n",
       "    </tr>\n",
       "  </tbody>\n",
       "</table>\n",
       "</div>"
      ],
      "text/plain": [
       "           Accuracy train ROC AUC 5-CV train ROC AUC 5-CV validate  \\\n",
       "LGBM_poly           0.708      0.797 ± 0.001         0.757 ± 0.003   \n",
       "\n",
       "           ROC AUC train  ROC AUC test  \n",
       "LGBM_poly           0.79         0.741  "
      ]
     },
     "execution_count": 21,
     "metadata": {},
     "output_type": "execute_result"
    }
   ],
   "source": [
    "df_LGBM_poly['ROC AUC test'] = round(0.74071, 3)\n",
    "df_LGBM_poly"
   ]
  },
  {
   "cell_type": "markdown",
   "id": "adjusted-calvin",
   "metadata": {},
   "source": [
    "- The `ROC AUC test` score is obtained after submit the submission file to [Kaggle](https://www.kaggle.com/competitions/home-credit-default-risk/overview) that is `0.74071`"
   ]
  },
  {
   "cell_type": "markdown",
   "id": "auburn-graph",
   "metadata": {},
   "source": [
    "### Using domain knowledge features"
   ]
  },
  {
   "cell_type": "markdown",
   "id": "decent-southwest",
   "metadata": {},
   "source": [
    "#### Logistic Regression"
   ]
  },
  {
   "cell_type": "code",
   "execution_count": 22,
   "id": "bearing-revision",
   "metadata": {},
   "outputs": [
    {
     "name": "stdout",
     "output_type": "stream",
     "text": [
      "[Pipeline]  (step 1 of 2) Processing preprocessing_features, total=  10.1s\n",
      "[Pipeline] ............ (step 2 of 2) Processing LogReg, total=  13.5s\n",
      "done...\n",
      "Wall time: 26.3 s\n"
     ]
    }
   ],
   "source": [
    "%%time\n",
    "# create model for Logistic Regression: LogReg_domain\n",
    "from sklearn.linear_model import LogisticRegression\n",
    "\n",
    "LogReg_features_domain = get_feature_pipeline(numerical = num_columns + creation_columns, \n",
    "                                              nominal = nom_columns, \n",
    "                                              ordinal = ord_columns, \n",
    "                                              algorithm = 'Logistic Regression')\n",
    "LogReg_domain = Pipeline([('preprocessing_features', LogReg_features_domain),\n",
    "                          ('LogReg', LogisticRegression(n_jobs = -1, class_weight = 'balanced'))], verbose = True)\n",
    "LogReg_domain.fit(app_train.drop('TARGET', axis = 1),\n",
    "                  app_train[['TARGET']])\n",
    "print('done...')"
   ]
  },
  {
   "cell_type": "code",
   "execution_count": 23,
   "id": "metallic-vienna",
   "metadata": {},
   "outputs": [
    {
     "name": "stdout",
     "output_type": "stream",
     "text": [
      "[Pipeline]  (step 1 of 2) Processing preprocessing_features, total=   9.4s\n",
      "[Pipeline] ............ (step 2 of 2) Processing LogReg, total=  12.6s\n",
      "[Pipeline]  (step 1 of 2) Processing preprocessing_features, total=   6.6s\n",
      "[Pipeline] ............ (step 2 of 2) Processing LogReg, total=   9.1s\n",
      "[Pipeline]  (step 1 of 2) Processing preprocessing_features, total=   6.5s\n",
      "[Pipeline] ............ (step 2 of 2) Processing LogReg, total=   8.8s\n",
      "[Pipeline]  (step 1 of 2) Processing preprocessing_features, total=   6.3s\n",
      "[Pipeline] ............ (step 2 of 2) Processing LogReg, total=   9.4s\n",
      "[Pipeline]  (step 1 of 2) Processing preprocessing_features, total=   5.9s\n",
      "[Pipeline] ............ (step 2 of 2) Processing LogReg, total=   8.4s\n",
      "\n",
      "\n",
      "======== model evaluation metrics \"LogReg_domain\" ========\n",
      "confusion matrix and classification report \"app_train\": \n",
      "[[194289  88397]\n",
      " [  7891  16934]]\n",
      "              precision    recall  f1-score   support\n",
      "\n",
      "      repaid       0.96      0.69      0.80    282686\n",
      "  not repaid       0.16      0.68      0.26     24825\n",
      "\n",
      "    accuracy                           0.69    307511\n",
      "   macro avg       0.56      0.68      0.53    307511\n",
      "weighted avg       0.90      0.69      0.76    307511\n",
      "\n"
     ]
    },
    {
     "data": {
      "text/html": [
       "<div>\n",
       "<style scoped>\n",
       "    .dataframe tbody tr th:only-of-type {\n",
       "        vertical-align: middle;\n",
       "    }\n",
       "\n",
       "    .dataframe tbody tr th {\n",
       "        vertical-align: top;\n",
       "    }\n",
       "\n",
       "    .dataframe thead th {\n",
       "        text-align: right;\n",
       "    }\n",
       "</style>\n",
       "<table border=\"1\" class=\"dataframe\">\n",
       "  <thead>\n",
       "    <tr style=\"text-align: right;\">\n",
       "      <th></th>\n",
       "      <th>Accuracy train</th>\n",
       "      <th>ROC AUC 5-CV train</th>\n",
       "      <th>ROC AUC 5-CV validate</th>\n",
       "      <th>ROC AUC train</th>\n",
       "    </tr>\n",
       "  </thead>\n",
       "  <tbody>\n",
       "    <tr>\n",
       "      <th>LogReg_domain</th>\n",
       "      <td>0.687</td>\n",
       "      <td>0.751 ± 0.001</td>\n",
       "      <td>0.748 ± 0.003</td>\n",
       "      <td>0.751</td>\n",
       "    </tr>\n",
       "  </tbody>\n",
       "</table>\n",
       "</div>"
      ],
      "text/plain": [
       "               Accuracy train ROC AUC 5-CV train ROC AUC 5-CV validate  \\\n",
       "LogReg_domain           0.687      0.751 ± 0.001         0.748 ± 0.003   \n",
       "\n",
       "               ROC AUC train  \n",
       "LogReg_domain          0.751  "
      ]
     },
     "metadata": {},
     "output_type": "display_data"
    },
    {
     "name": "stdout",
     "output_type": "stream",
     "text": [
      "Wall time: 1min 58s\n"
     ]
    }
   ],
   "source": [
    "%%time\n",
    "# evaluate LogReg_domain\n",
    "df_LogReg_domain, y_pred_proba_test = model_evaluation(model = LogReg_domain, \n",
    "                                                       tuning = False, \n",
    "                                                       train = app_train, \n",
    "                                                       test = app_test, \n",
    "                                                       name = 'LogReg_domain')\n",
    "display(df_LogReg_domain)"
   ]
  },
  {
   "cell_type": "code",
   "execution_count": 24,
   "id": "accessible-efficiency",
   "metadata": {},
   "outputs": [
    {
     "data": {
      "text/html": [
       "<div>\n",
       "<style scoped>\n",
       "    .dataframe tbody tr th:only-of-type {\n",
       "        vertical-align: middle;\n",
       "    }\n",
       "\n",
       "    .dataframe tbody tr th {\n",
       "        vertical-align: top;\n",
       "    }\n",
       "\n",
       "    .dataframe thead th {\n",
       "        text-align: right;\n",
       "    }\n",
       "</style>\n",
       "<table border=\"1\" class=\"dataframe\">\n",
       "  <thead>\n",
       "    <tr style=\"text-align: right;\">\n",
       "      <th></th>\n",
       "      <th>SK_ID_CURR</th>\n",
       "      <th>TARGET</th>\n",
       "    </tr>\n",
       "  </thead>\n",
       "  <tbody>\n",
       "    <tr>\n",
       "      <th>0</th>\n",
       "      <td>100001</td>\n",
       "      <td>0.379465</td>\n",
       "    </tr>\n",
       "    <tr>\n",
       "      <th>1</th>\n",
       "      <td>100005</td>\n",
       "      <td>0.701020</td>\n",
       "    </tr>\n",
       "    <tr>\n",
       "      <th>2</th>\n",
       "      <td>100013</td>\n",
       "      <td>0.289044</td>\n",
       "    </tr>\n",
       "    <tr>\n",
       "      <th>3</th>\n",
       "      <td>100028</td>\n",
       "      <td>0.240779</td>\n",
       "    </tr>\n",
       "    <tr>\n",
       "      <th>4</th>\n",
       "      <td>100038</td>\n",
       "      <td>0.641690</td>\n",
       "    </tr>\n",
       "  </tbody>\n",
       "</table>\n",
       "</div>"
      ],
      "text/plain": [
       "   SK_ID_CURR    TARGET\n",
       "0      100001  0.379465\n",
       "1      100005  0.701020\n",
       "2      100013  0.289044\n",
       "3      100028  0.240779\n",
       "4      100038  0.641690"
      ]
     },
     "execution_count": 24,
     "metadata": {},
     "output_type": "execute_result"
    }
   ],
   "source": [
    "# create submission dataframe and save the submission to a csv file\n",
    "df_submit = app_test[['SK_ID_CURR']].copy()\n",
    "df_submit['TARGET'] = y_pred_proba_test\n",
    "df_submit.to_csv('submission/LogReg_domain.csv', index = False)\n",
    "df_submit.head()"
   ]
  },
  {
   "cell_type": "code",
   "execution_count": 25,
   "id": "protecting-survival",
   "metadata": {},
   "outputs": [
    {
     "data": {
      "text/html": [
       "<div>\n",
       "<style scoped>\n",
       "    .dataframe tbody tr th:only-of-type {\n",
       "        vertical-align: middle;\n",
       "    }\n",
       "\n",
       "    .dataframe tbody tr th {\n",
       "        vertical-align: top;\n",
       "    }\n",
       "\n",
       "    .dataframe thead th {\n",
       "        text-align: right;\n",
       "    }\n",
       "</style>\n",
       "<table border=\"1\" class=\"dataframe\">\n",
       "  <thead>\n",
       "    <tr style=\"text-align: right;\">\n",
       "      <th></th>\n",
       "      <th>Accuracy train</th>\n",
       "      <th>ROC AUC 5-CV train</th>\n",
       "      <th>ROC AUC 5-CV validate</th>\n",
       "      <th>ROC AUC train</th>\n",
       "      <th>ROC AUC test</th>\n",
       "    </tr>\n",
       "  </thead>\n",
       "  <tbody>\n",
       "    <tr>\n",
       "      <th>LogReg_domain</th>\n",
       "      <td>0.687</td>\n",
       "      <td>0.751 ± 0.001</td>\n",
       "      <td>0.748 ± 0.003</td>\n",
       "      <td>0.751</td>\n",
       "      <td>0.736</td>\n",
       "    </tr>\n",
       "  </tbody>\n",
       "</table>\n",
       "</div>"
      ],
      "text/plain": [
       "               Accuracy train ROC AUC 5-CV train ROC AUC 5-CV validate  \\\n",
       "LogReg_domain           0.687      0.751 ± 0.001         0.748 ± 0.003   \n",
       "\n",
       "               ROC AUC train  ROC AUC test  \n",
       "LogReg_domain          0.751         0.736  "
      ]
     },
     "execution_count": 25,
     "metadata": {},
     "output_type": "execute_result"
    }
   ],
   "source": [
    "df_LogReg_domain['ROC AUC test'] = round(0.73602, 3)\n",
    "df_LogReg_domain"
   ]
  },
  {
   "cell_type": "markdown",
   "id": "stone-resource",
   "metadata": {},
   "source": [
    "- The `ROC AUC test` score is obtained after submit the submission file to [Kaggle](https://www.kaggle.com/competitions/home-credit-default-risk/overview) that is `0.73602`"
   ]
  },
  {
   "cell_type": "markdown",
   "id": "intensive-sacrifice",
   "metadata": {},
   "source": [
    "#### LightGBM"
   ]
  },
  {
   "cell_type": "code",
   "execution_count": 26,
   "id": "paperback-redhead",
   "metadata": {},
   "outputs": [
    {
     "name": "stdout",
     "output_type": "stream",
     "text": [
      "[Pipeline]  (step 1 of 2) Processing preprocessing_features, total=   4.6s\n",
      "[Pipeline] .............. (step 2 of 2) Processing LGBM, total=   8.7s\n",
      "done...\n",
      "Wall time: 17.4 s\n"
     ]
    }
   ],
   "source": [
    "%%time\n",
    "# create model for LGBM: LGBM_domain \n",
    "from lightgbm import LGBMClassifier\n",
    "\n",
    "LGBM_features_domain = get_feature_pipeline(numerical = num_columns + creation_columns, \n",
    "                                            nominal = nom_columns, \n",
    "                                            ordinal = ord_columns, \n",
    "                                            algorithm = 'GBM')\n",
    "LGBM_domain = Pipeline([('preprocessing_features', LGBM_features_domain),\n",
    "                        ('LGBM', LGBMClassifier(n_jobs = -1, class_weight = 'balanced', \n",
    "                                                objective = 'binary', reg_alpha = 0.1, reg_lambda = 0.1,\n",
    "                                                random_state = 42, subsample = 0.9))], verbose = True)\n",
    "LGBM_domain.fit(app_train.drop('TARGET', axis = 1),\n",
    "                app_train[['TARGET']])\n",
    "print('done...')"
   ]
  },
  {
   "cell_type": "code",
   "execution_count": 27,
   "id": "fifth-press",
   "metadata": {},
   "outputs": [
    {
     "name": "stdout",
     "output_type": "stream",
     "text": [
      "[Pipeline]  (step 1 of 2) Processing preprocessing_features, total=   4.3s\n",
      "[Pipeline] .............. (step 2 of 2) Processing LGBM, total=   7.3s\n",
      "[Pipeline]  (step 1 of 2) Processing preprocessing_features, total=   3.3s\n",
      "[Pipeline] .............. (step 2 of 2) Processing LGBM, total=   7.2s\n",
      "[Pipeline]  (step 1 of 2) Processing preprocessing_features, total=   3.1s\n",
      "[Pipeline] .............. (step 2 of 2) Processing LGBM, total=   7.0s\n",
      "[Pipeline]  (step 1 of 2) Processing preprocessing_features, total=   3.0s\n",
      "[Pipeline] .............. (step 2 of 2) Processing LGBM, total=   6.7s\n",
      "[Pipeline]  (step 1 of 2) Processing preprocessing_features, total=   3.1s\n",
      "[Pipeline] .............. (step 2 of 2) Processing LGBM, total=   6.9s\n",
      "\n",
      "\n",
      "======== model evaluation metrics \"LGBM_domain\" ========\n",
      "confusion matrix and classification report \"app_train\": \n",
      "[[202441  80245]\n",
      " [  6800  18025]]\n",
      "              precision    recall  f1-score   support\n",
      "\n",
      "      repaid       0.97      0.72      0.82    282686\n",
      "  not repaid       0.18      0.73      0.29     24825\n",
      "\n",
      "    accuracy                           0.72    307511\n",
      "   macro avg       0.58      0.72      0.56    307511\n",
      "weighted avg       0.90      0.72      0.78    307511\n",
      "\n"
     ]
    },
    {
     "data": {
      "text/html": [
       "<div>\n",
       "<style scoped>\n",
       "    .dataframe tbody tr th:only-of-type {\n",
       "        vertical-align: middle;\n",
       "    }\n",
       "\n",
       "    .dataframe tbody tr th {\n",
       "        vertical-align: top;\n",
       "    }\n",
       "\n",
       "    .dataframe thead th {\n",
       "        text-align: right;\n",
       "    }\n",
       "</style>\n",
       "<table border=\"1\" class=\"dataframe\">\n",
       "  <thead>\n",
       "    <tr style=\"text-align: right;\">\n",
       "      <th></th>\n",
       "      <th>Accuracy train</th>\n",
       "      <th>ROC AUC 5-CV train</th>\n",
       "      <th>ROC AUC 5-CV validate</th>\n",
       "      <th>ROC AUC train</th>\n",
       "    </tr>\n",
       "  </thead>\n",
       "  <tbody>\n",
       "    <tr>\n",
       "      <th>LGBM_domain</th>\n",
       "      <td>0.717</td>\n",
       "      <td>0.803 ± 0.001</td>\n",
       "      <td>0.764 ± 0.003</td>\n",
       "      <td>0.798</td>\n",
       "    </tr>\n",
       "  </tbody>\n",
       "</table>\n",
       "</div>"
      ],
      "text/plain": [
       "             Accuracy train ROC AUC 5-CV train ROC AUC 5-CV validate  \\\n",
       "LGBM_domain           0.717      0.803 ± 0.001         0.764 ± 0.003   \n",
       "\n",
       "             ROC AUC train  \n",
       "LGBM_domain          0.798  "
      ]
     },
     "metadata": {},
     "output_type": "display_data"
    },
    {
     "name": "stdout",
     "output_type": "stream",
     "text": [
      "Wall time: 1min 33s\n"
     ]
    }
   ],
   "source": [
    "%%time\n",
    "# evaluate LGBM_domain\n",
    "df_LGBM_domain, y_pred_proba_test = model_evaluation(model = LGBM_domain, \n",
    "                                                     tuning = False, \n",
    "                                                     train = app_train, \n",
    "                                                     test = app_test, \n",
    "                                                     name = 'LGBM_domain')\n",
    "display(df_LGBM_domain)"
   ]
  },
  {
   "cell_type": "code",
   "execution_count": 28,
   "id": "compound-stylus",
   "metadata": {},
   "outputs": [
    {
     "data": {
      "text/html": [
       "<div>\n",
       "<style scoped>\n",
       "    .dataframe tbody tr th:only-of-type {\n",
       "        vertical-align: middle;\n",
       "    }\n",
       "\n",
       "    .dataframe tbody tr th {\n",
       "        vertical-align: top;\n",
       "    }\n",
       "\n",
       "    .dataframe thead th {\n",
       "        text-align: right;\n",
       "    }\n",
       "</style>\n",
       "<table border=\"1\" class=\"dataframe\">\n",
       "  <thead>\n",
       "    <tr style=\"text-align: right;\">\n",
       "      <th></th>\n",
       "      <th>SK_ID_CURR</th>\n",
       "      <th>TARGET</th>\n",
       "    </tr>\n",
       "  </thead>\n",
       "  <tbody>\n",
       "    <tr>\n",
       "      <th>0</th>\n",
       "      <td>100001</td>\n",
       "      <td>0.231340</td>\n",
       "    </tr>\n",
       "    <tr>\n",
       "      <th>1</th>\n",
       "      <td>100005</td>\n",
       "      <td>0.494834</td>\n",
       "    </tr>\n",
       "    <tr>\n",
       "      <th>2</th>\n",
       "      <td>100013</td>\n",
       "      <td>0.131039</td>\n",
       "    </tr>\n",
       "    <tr>\n",
       "      <th>3</th>\n",
       "      <td>100028</td>\n",
       "      <td>0.256270</td>\n",
       "    </tr>\n",
       "    <tr>\n",
       "      <th>4</th>\n",
       "      <td>100038</td>\n",
       "      <td>0.646026</td>\n",
       "    </tr>\n",
       "  </tbody>\n",
       "</table>\n",
       "</div>"
      ],
      "text/plain": [
       "   SK_ID_CURR    TARGET\n",
       "0      100001  0.231340\n",
       "1      100005  0.494834\n",
       "2      100013  0.131039\n",
       "3      100028  0.256270\n",
       "4      100038  0.646026"
      ]
     },
     "execution_count": 28,
     "metadata": {},
     "output_type": "execute_result"
    }
   ],
   "source": [
    "# create submission dataframe and save the submission to a csv file\n",
    "df_submit = app_test[['SK_ID_CURR']].copy()\n",
    "df_submit['TARGET'] = y_pred_proba_test\n",
    "df_submit.to_csv('submission/LGBM_domain.csv', index = False)\n",
    "df_submit.head()"
   ]
  },
  {
   "cell_type": "code",
   "execution_count": 29,
   "id": "confused-cambridge",
   "metadata": {},
   "outputs": [
    {
     "data": {
      "text/html": [
       "<div>\n",
       "<style scoped>\n",
       "    .dataframe tbody tr th:only-of-type {\n",
       "        vertical-align: middle;\n",
       "    }\n",
       "\n",
       "    .dataframe tbody tr th {\n",
       "        vertical-align: top;\n",
       "    }\n",
       "\n",
       "    .dataframe thead th {\n",
       "        text-align: right;\n",
       "    }\n",
       "</style>\n",
       "<table border=\"1\" class=\"dataframe\">\n",
       "  <thead>\n",
       "    <tr style=\"text-align: right;\">\n",
       "      <th></th>\n",
       "      <th>Accuracy train</th>\n",
       "      <th>ROC AUC 5-CV train</th>\n",
       "      <th>ROC AUC 5-CV validate</th>\n",
       "      <th>ROC AUC train</th>\n",
       "      <th>ROC AUC test</th>\n",
       "    </tr>\n",
       "  </thead>\n",
       "  <tbody>\n",
       "    <tr>\n",
       "      <th>LGBM_domain</th>\n",
       "      <td>0.717</td>\n",
       "      <td>0.803 ± 0.001</td>\n",
       "      <td>0.764 ± 0.003</td>\n",
       "      <td>0.798</td>\n",
       "      <td>0.756</td>\n",
       "    </tr>\n",
       "  </tbody>\n",
       "</table>\n",
       "</div>"
      ],
      "text/plain": [
       "             Accuracy train ROC AUC 5-CV train ROC AUC 5-CV validate  \\\n",
       "LGBM_domain           0.717      0.803 ± 0.001         0.764 ± 0.003   \n",
       "\n",
       "             ROC AUC train  ROC AUC test  \n",
       "LGBM_domain          0.798         0.756  "
      ]
     },
     "execution_count": 29,
     "metadata": {},
     "output_type": "execute_result"
    }
   ],
   "source": [
    "df_LGBM_domain['ROC AUC test'] = round(0.75632, 3)\n",
    "df_LGBM_domain"
   ]
  },
  {
   "cell_type": "markdown",
   "id": "spread-intro",
   "metadata": {},
   "source": [
    "- The `ROC AUC test` score is obtained after submit the submission file to [Kaggle](https://www.kaggle.com/competitions/home-credit-default-risk/overview) that is `0.75632`"
   ]
  },
  {
   "cell_type": "markdown",
   "id": "alive-departure",
   "metadata": {},
   "source": [
    "### Using other sources: bureau and burueau_balance"
   ]
  },
  {
   "cell_type": "markdown",
   "id": "fifteen-maximum",
   "metadata": {},
   "source": [
    "#### Logistic Regression"
   ]
  },
  {
   "cell_type": "code",
   "execution_count": 30,
   "id": "historical-virus",
   "metadata": {},
   "outputs": [
    {
     "name": "stdout",
     "output_type": "stream",
     "text": [
      "[Pipeline]  (step 1 of 2) Processing preprocessing_features, total=  17.1s\n",
      "[Pipeline] ............ (step 2 of 2) Processing LogReg, total=  19.9s\n",
      "done...\n",
      "Wall time: 37.8 s\n"
     ]
    }
   ],
   "source": [
    "%%time\n",
    "# create model for Logistic Regression: LogReg_bureau\n",
    "from sklearn.linear_model import LogisticRegression\n",
    "\n",
    "LogReg_features_bureau = get_feature_pipeline(numerical = num_columns + bureau_app_columns, \n",
    "                                              nominal = nom_columns, \n",
    "                                              ordinal = ord_columns, \n",
    "                                              algorithm = 'Logistic Regression')\n",
    "LogReg_bureau = Pipeline([('preprocessing_features', LogReg_features_bureau),\n",
    "                          ('LogReg', LogisticRegression(n_jobs = -1, class_weight = 'balanced'))], verbose = True)\n",
    "LogReg_bureau.fit(app_train.drop('TARGET', axis = 1),\n",
    "                  app_train[['TARGET']])\n",
    "print('done...')"
   ]
  },
  {
   "cell_type": "code",
   "execution_count": 31,
   "id": "formed-sister",
   "metadata": {},
   "outputs": [
    {
     "name": "stdout",
     "output_type": "stream",
     "text": [
      "[Pipeline]  (step 1 of 2) Processing preprocessing_features, total=  14.3s\n",
      "[Pipeline] ............ (step 2 of 2) Processing LogReg, total=  13.3s\n",
      "[Pipeline]  (step 1 of 2) Processing preprocessing_features, total=  11.9s\n",
      "[Pipeline] ............ (step 2 of 2) Processing LogReg, total=  12.6s\n",
      "[Pipeline]  (step 1 of 2) Processing preprocessing_features, total=  11.9s\n",
      "[Pipeline] ............ (step 2 of 2) Processing LogReg, total=  12.3s\n",
      "[Pipeline]  (step 1 of 2) Processing preprocessing_features, total=  12.2s\n",
      "[Pipeline] ............ (step 2 of 2) Processing LogReg, total=  11.9s\n",
      "[Pipeline]  (step 1 of 2) Processing preprocessing_features, total=  12.3s\n",
      "[Pipeline] ............ (step 2 of 2) Processing LogReg, total=  11.3s\n",
      "\n",
      "\n",
      "======== model evaluation metrics \"LogReg_bureau\" ========\n",
      "confusion matrix and classification report \"app_train\": \n",
      "[[194681  88005]\n",
      " [  7953  16872]]\n",
      "              precision    recall  f1-score   support\n",
      "\n",
      "      repaid       0.96      0.69      0.80    282686\n",
      "  not repaid       0.16      0.68      0.26     24825\n",
      "\n",
      "    accuracy                           0.69    307511\n",
      "   macro avg       0.56      0.68      0.53    307511\n",
      "weighted avg       0.90      0.69      0.76    307511\n",
      "\n"
     ]
    },
    {
     "data": {
      "text/html": [
       "<div>\n",
       "<style scoped>\n",
       "    .dataframe tbody tr th:only-of-type {\n",
       "        vertical-align: middle;\n",
       "    }\n",
       "\n",
       "    .dataframe tbody tr th {\n",
       "        vertical-align: top;\n",
       "    }\n",
       "\n",
       "    .dataframe thead th {\n",
       "        text-align: right;\n",
       "    }\n",
       "</style>\n",
       "<table border=\"1\" class=\"dataframe\">\n",
       "  <thead>\n",
       "    <tr style=\"text-align: right;\">\n",
       "      <th></th>\n",
       "      <th>Accuracy train</th>\n",
       "      <th>ROC AUC 5-CV train</th>\n",
       "      <th>ROC AUC 5-CV validate</th>\n",
       "      <th>ROC AUC train</th>\n",
       "    </tr>\n",
       "  </thead>\n",
       "  <tbody>\n",
       "    <tr>\n",
       "      <th>LogReg_bureau</th>\n",
       "      <td>0.688</td>\n",
       "      <td>0.75 ± 0.001</td>\n",
       "      <td>0.747 ± 0.002</td>\n",
       "      <td>0.75</td>\n",
       "    </tr>\n",
       "  </tbody>\n",
       "</table>\n",
       "</div>"
      ],
      "text/plain": [
       "               Accuracy train ROC AUC 5-CV train ROC AUC 5-CV validate  \\\n",
       "LogReg_bureau           0.688       0.75 ± 0.001         0.747 ± 0.002   \n",
       "\n",
       "               ROC AUC train  \n",
       "LogReg_bureau           0.75  "
      ]
     },
     "metadata": {},
     "output_type": "display_data"
    },
    {
     "name": "stdout",
     "output_type": "stream",
     "text": [
      "Wall time: 2min 54s\n"
     ]
    }
   ],
   "source": [
    "%%time\n",
    "# evaluate LogReg_bureau\n",
    "df_LogReg_bureau, y_pred_proba_test = model_evaluation(model = LogReg_bureau, \n",
    "                                                       tuning = False, \n",
    "                                                       train = app_train, \n",
    "                                                       test = app_test, \n",
    "                                                       name = 'LogReg_bureau')\n",
    "display(df_LogReg_bureau)"
   ]
  },
  {
   "cell_type": "code",
   "execution_count": 32,
   "id": "graduate-medicine",
   "metadata": {},
   "outputs": [
    {
     "data": {
      "text/html": [
       "<div>\n",
       "<style scoped>\n",
       "    .dataframe tbody tr th:only-of-type {\n",
       "        vertical-align: middle;\n",
       "    }\n",
       "\n",
       "    .dataframe tbody tr th {\n",
       "        vertical-align: top;\n",
       "    }\n",
       "\n",
       "    .dataframe thead th {\n",
       "        text-align: right;\n",
       "    }\n",
       "</style>\n",
       "<table border=\"1\" class=\"dataframe\">\n",
       "  <thead>\n",
       "    <tr style=\"text-align: right;\">\n",
       "      <th></th>\n",
       "      <th>SK_ID_CURR</th>\n",
       "      <th>TARGET</th>\n",
       "    </tr>\n",
       "  </thead>\n",
       "  <tbody>\n",
       "    <tr>\n",
       "      <th>0</th>\n",
       "      <td>100001</td>\n",
       "      <td>0.404736</td>\n",
       "    </tr>\n",
       "    <tr>\n",
       "      <th>1</th>\n",
       "      <td>100005</td>\n",
       "      <td>0.727163</td>\n",
       "    </tr>\n",
       "    <tr>\n",
       "      <th>2</th>\n",
       "      <td>100013</td>\n",
       "      <td>0.177393</td>\n",
       "    </tr>\n",
       "    <tr>\n",
       "      <th>3</th>\n",
       "      <td>100028</td>\n",
       "      <td>0.341355</td>\n",
       "    </tr>\n",
       "    <tr>\n",
       "      <th>4</th>\n",
       "      <td>100038</td>\n",
       "      <td>0.646729</td>\n",
       "    </tr>\n",
       "  </tbody>\n",
       "</table>\n",
       "</div>"
      ],
      "text/plain": [
       "   SK_ID_CURR    TARGET\n",
       "0      100001  0.404736\n",
       "1      100005  0.727163\n",
       "2      100013  0.177393\n",
       "3      100028  0.341355\n",
       "4      100038  0.646729"
      ]
     },
     "execution_count": 32,
     "metadata": {},
     "output_type": "execute_result"
    }
   ],
   "source": [
    "# create submission dataframe and save the submission to a csv file\n",
    "df_submit = app_test[['SK_ID_CURR']].copy()\n",
    "df_submit['TARGET'] = y_pred_proba_test\n",
    "df_submit.to_csv('submission/LogReg_bureau.csv', index = False)\n",
    "df_submit.head()"
   ]
  },
  {
   "cell_type": "code",
   "execution_count": 33,
   "id": "comprehensive-architect",
   "metadata": {},
   "outputs": [
    {
     "data": {
      "text/html": [
       "<div>\n",
       "<style scoped>\n",
       "    .dataframe tbody tr th:only-of-type {\n",
       "        vertical-align: middle;\n",
       "    }\n",
       "\n",
       "    .dataframe tbody tr th {\n",
       "        vertical-align: top;\n",
       "    }\n",
       "\n",
       "    .dataframe thead th {\n",
       "        text-align: right;\n",
       "    }\n",
       "</style>\n",
       "<table border=\"1\" class=\"dataframe\">\n",
       "  <thead>\n",
       "    <tr style=\"text-align: right;\">\n",
       "      <th></th>\n",
       "      <th>Accuracy train</th>\n",
       "      <th>ROC AUC 5-CV train</th>\n",
       "      <th>ROC AUC 5-CV validate</th>\n",
       "      <th>ROC AUC train</th>\n",
       "      <th>ROC AUC test</th>\n",
       "    </tr>\n",
       "  </thead>\n",
       "  <tbody>\n",
       "    <tr>\n",
       "      <th>LogReg_bureau</th>\n",
       "      <td>0.688</td>\n",
       "      <td>0.75 ± 0.001</td>\n",
       "      <td>0.747 ± 0.002</td>\n",
       "      <td>0.75</td>\n",
       "      <td>0.736</td>\n",
       "    </tr>\n",
       "  </tbody>\n",
       "</table>\n",
       "</div>"
      ],
      "text/plain": [
       "               Accuracy train ROC AUC 5-CV train ROC AUC 5-CV validate  \\\n",
       "LogReg_bureau           0.688       0.75 ± 0.001         0.747 ± 0.002   \n",
       "\n",
       "               ROC AUC train  ROC AUC test  \n",
       "LogReg_bureau           0.75         0.736  "
      ]
     },
     "execution_count": 33,
     "metadata": {},
     "output_type": "execute_result"
    }
   ],
   "source": [
    "df_LogReg_bureau['ROC AUC test'] = round(0.73644, 3)\n",
    "df_LogReg_bureau"
   ]
  },
  {
   "cell_type": "markdown",
   "id": "pacific-stuff",
   "metadata": {},
   "source": [
    "- The `ROC AUC test` score is obtained after submit the submission file to [Kaggle](https://www.kaggle.com/competitions/home-credit-default-risk/overview) that is `0.73644`"
   ]
  },
  {
   "cell_type": "markdown",
   "id": "acquired-cosmetic",
   "metadata": {},
   "source": [
    "#### LightGBM"
   ]
  },
  {
   "cell_type": "code",
   "execution_count": 34,
   "id": "dominant-coffee",
   "metadata": {},
   "outputs": [
    {
     "name": "stdout",
     "output_type": "stream",
     "text": [
      "[Pipeline]  (step 1 of 2) Processing preprocessing_features, total=   7.5s\n",
      "[Pipeline] .............. (step 2 of 2) Processing LGBM, total=  12.3s\n",
      "done...\n",
      "Wall time: 20.4 s\n"
     ]
    }
   ],
   "source": [
    "%%time\n",
    "# create model for LGBM: LGBM_bureau\n",
    "from lightgbm import LGBMClassifier\n",
    "\n",
    "LGBM_features_bureau = get_feature_pipeline(numerical = num_columns + bureau_app_columns, \n",
    "                                            nominal = nom_columns, \n",
    "                                            ordinal = ord_columns, \n",
    "                                            algorithm = 'GBM')\n",
    "LGBM_bureau = Pipeline([('preprocessing_features', LGBM_features_bureau),\n",
    "                        ('LGBM', LGBMClassifier(n_jobs = -1, class_weight = 'balanced', \n",
    "                                                objective = 'binary', reg_alpha = 0.1, reg_lambda = 0.1,\n",
    "                                                random_state = 42, subsample = 0.9))], verbose = True)\n",
    "LGBM_bureau.fit(app_train.drop('TARGET', axis = 1),\n",
    "                app_train[['TARGET']])\n",
    "print('done...')"
   ]
  },
  {
   "cell_type": "code",
   "execution_count": 35,
   "id": "elegant-character",
   "metadata": {},
   "outputs": [
    {
     "name": "stdout",
     "output_type": "stream",
     "text": [
      "[Pipeline]  (step 1 of 2) Processing preprocessing_features, total=   5.7s\n",
      "[Pipeline] .............. (step 2 of 2) Processing LGBM, total=   9.0s\n",
      "[Pipeline]  (step 1 of 2) Processing preprocessing_features, total=   6.0s\n",
      "[Pipeline] .............. (step 2 of 2) Processing LGBM, total=  11.4s\n",
      "[Pipeline]  (step 1 of 2) Processing preprocessing_features, total=   5.9s\n",
      "[Pipeline] .............. (step 2 of 2) Processing LGBM, total=  13.3s\n",
      "[Pipeline]  (step 1 of 2) Processing preprocessing_features, total=   5.8s\n",
      "[Pipeline] .............. (step 2 of 2) Processing LGBM, total=  10.6s\n",
      "[Pipeline]  (step 1 of 2) Processing preprocessing_features, total=   6.1s\n",
      "[Pipeline] .............. (step 2 of 2) Processing LGBM, total=  14.5s\n",
      "\n",
      "\n",
      "======== model evaluation metrics \"LGBM_bureau\" ========\n",
      "confusion matrix and classification report \"app_train\": \n",
      "[[203240  79446]\n",
      " [  6793  18032]]\n",
      "              precision    recall  f1-score   support\n",
      "\n",
      "      repaid       0.97      0.72      0.82    282686\n",
      "  not repaid       0.18      0.73      0.29     24825\n",
      "\n",
      "    accuracy                           0.72    307511\n",
      "   macro avg       0.58      0.72      0.56    307511\n",
      "weighted avg       0.90      0.72      0.78    307511\n",
      "\n"
     ]
    },
    {
     "data": {
      "text/html": [
       "<div>\n",
       "<style scoped>\n",
       "    .dataframe tbody tr th:only-of-type {\n",
       "        vertical-align: middle;\n",
       "    }\n",
       "\n",
       "    .dataframe tbody tr th {\n",
       "        vertical-align: top;\n",
       "    }\n",
       "\n",
       "    .dataframe thead th {\n",
       "        text-align: right;\n",
       "    }\n",
       "</style>\n",
       "<table border=\"1\" class=\"dataframe\">\n",
       "  <thead>\n",
       "    <tr style=\"text-align: right;\">\n",
       "      <th></th>\n",
       "      <th>Accuracy train</th>\n",
       "      <th>ROC AUC 5-CV train</th>\n",
       "      <th>ROC AUC 5-CV validate</th>\n",
       "      <th>ROC AUC train</th>\n",
       "    </tr>\n",
       "  </thead>\n",
       "  <tbody>\n",
       "    <tr>\n",
       "      <th>LGBM_bureau</th>\n",
       "      <td>0.72</td>\n",
       "      <td>0.807 ± 0.001</td>\n",
       "      <td>0.763 ± 0.002</td>\n",
       "      <td>0.8</td>\n",
       "    </tr>\n",
       "  </tbody>\n",
       "</table>\n",
       "</div>"
      ],
      "text/plain": [
       "             Accuracy train ROC AUC 5-CV train ROC AUC 5-CV validate  \\\n",
       "LGBM_bureau            0.72      0.807 ± 0.001         0.763 ± 0.002   \n",
       "\n",
       "             ROC AUC train  \n",
       "LGBM_bureau            0.8  "
      ]
     },
     "metadata": {},
     "output_type": "display_data"
    },
    {
     "name": "stdout",
     "output_type": "stream",
     "text": [
      "Wall time: 2min 35s\n"
     ]
    }
   ],
   "source": [
    "%%time\n",
    "# evaluate LGBM_bureau\n",
    "df_LGBM_bureau, y_pred_proba_test = model_evaluation(model = LGBM_bureau, \n",
    "                                                     tuning = False, \n",
    "                                                     train = app_train, \n",
    "                                                     test = app_test, \n",
    "                                                     name = 'LGBM_bureau')\n",
    "display(df_LGBM_bureau)"
   ]
  },
  {
   "cell_type": "code",
   "execution_count": 36,
   "id": "federal-billion",
   "metadata": {},
   "outputs": [
    {
     "data": {
      "text/html": [
       "<div>\n",
       "<style scoped>\n",
       "    .dataframe tbody tr th:only-of-type {\n",
       "        vertical-align: middle;\n",
       "    }\n",
       "\n",
       "    .dataframe tbody tr th {\n",
       "        vertical-align: top;\n",
       "    }\n",
       "\n",
       "    .dataframe thead th {\n",
       "        text-align: right;\n",
       "    }\n",
       "</style>\n",
       "<table border=\"1\" class=\"dataframe\">\n",
       "  <thead>\n",
       "    <tr style=\"text-align: right;\">\n",
       "      <th></th>\n",
       "      <th>SK_ID_CURR</th>\n",
       "      <th>TARGET</th>\n",
       "    </tr>\n",
       "  </thead>\n",
       "  <tbody>\n",
       "    <tr>\n",
       "      <th>0</th>\n",
       "      <td>100001</td>\n",
       "      <td>0.285444</td>\n",
       "    </tr>\n",
       "    <tr>\n",
       "      <th>1</th>\n",
       "      <td>100005</td>\n",
       "      <td>0.603741</td>\n",
       "    </tr>\n",
       "    <tr>\n",
       "      <th>2</th>\n",
       "      <td>100013</td>\n",
       "      <td>0.183332</td>\n",
       "    </tr>\n",
       "    <tr>\n",
       "      <th>3</th>\n",
       "      <td>100028</td>\n",
       "      <td>0.285263</td>\n",
       "    </tr>\n",
       "    <tr>\n",
       "      <th>4</th>\n",
       "      <td>100038</td>\n",
       "      <td>0.671786</td>\n",
       "    </tr>\n",
       "  </tbody>\n",
       "</table>\n",
       "</div>"
      ],
      "text/plain": [
       "   SK_ID_CURR    TARGET\n",
       "0      100001  0.285444\n",
       "1      100005  0.603741\n",
       "2      100013  0.183332\n",
       "3      100028  0.285263\n",
       "4      100038  0.671786"
      ]
     },
     "execution_count": 36,
     "metadata": {},
     "output_type": "execute_result"
    }
   ],
   "source": [
    "# create submission dataframe and save the submission to a csv file\n",
    "df_submit = app_test[['SK_ID_CURR']].copy()\n",
    "df_submit['TARGET'] = y_pred_proba_test\n",
    "df_submit.to_csv('submission/LGBM_bureau.csv', index = False)\n",
    "df_submit.head()"
   ]
  },
  {
   "cell_type": "code",
   "execution_count": 37,
   "id": "oriented-utilization",
   "metadata": {},
   "outputs": [
    {
     "data": {
      "text/html": [
       "<div>\n",
       "<style scoped>\n",
       "    .dataframe tbody tr th:only-of-type {\n",
       "        vertical-align: middle;\n",
       "    }\n",
       "\n",
       "    .dataframe tbody tr th {\n",
       "        vertical-align: top;\n",
       "    }\n",
       "\n",
       "    .dataframe thead th {\n",
       "        text-align: right;\n",
       "    }\n",
       "</style>\n",
       "<table border=\"1\" class=\"dataframe\">\n",
       "  <thead>\n",
       "    <tr style=\"text-align: right;\">\n",
       "      <th></th>\n",
       "      <th>Accuracy train</th>\n",
       "      <th>ROC AUC 5-CV train</th>\n",
       "      <th>ROC AUC 5-CV validate</th>\n",
       "      <th>ROC AUC train</th>\n",
       "      <th>ROC AUC test</th>\n",
       "    </tr>\n",
       "  </thead>\n",
       "  <tbody>\n",
       "    <tr>\n",
       "      <th>LGBM_bureau</th>\n",
       "      <td>0.72</td>\n",
       "      <td>0.807 ± 0.001</td>\n",
       "      <td>0.763 ± 0.002</td>\n",
       "      <td>0.8</td>\n",
       "      <td>0.75</td>\n",
       "    </tr>\n",
       "  </tbody>\n",
       "</table>\n",
       "</div>"
      ],
      "text/plain": [
       "             Accuracy train ROC AUC 5-CV train ROC AUC 5-CV validate  \\\n",
       "LGBM_bureau            0.72      0.807 ± 0.001         0.763 ± 0.002   \n",
       "\n",
       "             ROC AUC train  ROC AUC test  \n",
       "LGBM_bureau            0.8          0.75  "
      ]
     },
     "execution_count": 37,
     "metadata": {},
     "output_type": "execute_result"
    }
   ],
   "source": [
    "df_LGBM_bureau['ROC AUC test'] = round(0.75027, 3)\n",
    "df_LGBM_bureau"
   ]
  },
  {
   "cell_type": "markdown",
   "id": "powerful-input",
   "metadata": {},
   "source": [
    "- The `ROC AUC test` score is obtained after submit the submission file to [Kaggle](https://www.kaggle.com/competitions/home-credit-default-risk/overview) that is `0.75027`"
   ]
  },
  {
   "cell_type": "markdown",
   "id": "scenic-plaza",
   "metadata": {},
   "source": [
    "### Using other sources: previous_app, credit_card_balance, installments_payments, and POS_CASH_balance"
   ]
  },
  {
   "cell_type": "markdown",
   "id": "colored-bernard",
   "metadata": {},
   "source": [
    "#### Logistic Regression"
   ]
  },
  {
   "cell_type": "code",
   "execution_count": 38,
   "id": "collected-security",
   "metadata": {},
   "outputs": [
    {
     "name": "stdout",
     "output_type": "stream",
     "text": [
      "[Pipeline]  (step 1 of 2) Processing preprocessing_features, total=  47.8s\n",
      "[Pipeline] ............ (step 2 of 2) Processing LogReg, total=  28.5s\n",
      "done...\n",
      "Wall time: 1min 18s\n"
     ]
    }
   ],
   "source": [
    "%%time\n",
    "# create model for Logistic Regression: LogReg_previous\n",
    "from sklearn.linear_model import LogisticRegression\n",
    "\n",
    "LogReg_features_previous = get_feature_pipeline(numerical = num_columns + previous_app_columns, \n",
    "                                                nominal = nom_columns, \n",
    "                                                ordinal = ord_columns, \n",
    "                                                algorithm = 'Logistic Regression')\n",
    "LogReg_previous = Pipeline([('preprocessing_features', LogReg_features_previous),\n",
    "                            ('LogReg', LogisticRegression(n_jobs = -1, class_weight = 'balanced'))], verbose = True)\n",
    "LogReg_previous.fit(app_train.drop('TARGET', axis = 1),\n",
    "                    app_train[['TARGET']])\n",
    "print('done...')"
   ]
  },
  {
   "cell_type": "code",
   "execution_count": 39,
   "id": "executive-mason",
   "metadata": {},
   "outputs": [
    {
     "name": "stdout",
     "output_type": "stream",
     "text": [
      "[Pipeline]  (step 1 of 2) Processing preprocessing_features, total=  33.8s\n",
      "[Pipeline] ............ (step 2 of 2) Processing LogReg, total=  24.4s\n",
      "[Pipeline]  (step 1 of 2) Processing preprocessing_features, total=  24.8s\n",
      "[Pipeline] ............ (step 2 of 2) Processing LogReg, total=  24.9s\n",
      "[Pipeline]  (step 1 of 2) Processing preprocessing_features, total=  25.1s\n",
      "[Pipeline] ............ (step 2 of 2) Processing LogReg, total=  23.1s\n",
      "[Pipeline]  (step 1 of 2) Processing preprocessing_features, total=  23.5s\n",
      "[Pipeline] ............ (step 2 of 2) Processing LogReg, total=  23.4s\n",
      "[Pipeline]  (step 1 of 2) Processing preprocessing_features, total=  23.8s\n",
      "[Pipeline] ............ (step 2 of 2) Processing LogReg, total=  22.9s\n",
      "\n",
      "\n",
      "======== model evaluation metrics \"LogReg_previous\" ========\n",
      "confusion matrix and classification report \"app_train\": \n",
      "[[198250  84436]\n",
      " [  7592  17233]]\n",
      "              precision    recall  f1-score   support\n",
      "\n",
      "      repaid       0.96      0.70      0.81    282686\n",
      "  not repaid       0.17      0.69      0.27     24825\n",
      "\n",
      "    accuracy                           0.70    307511\n",
      "   macro avg       0.57      0.70      0.54    307511\n",
      "weighted avg       0.90      0.70      0.77    307511\n",
      "\n"
     ]
    },
    {
     "data": {
      "text/html": [
       "<div>\n",
       "<style scoped>\n",
       "    .dataframe tbody tr th:only-of-type {\n",
       "        vertical-align: middle;\n",
       "    }\n",
       "\n",
       "    .dataframe tbody tr th {\n",
       "        vertical-align: top;\n",
       "    }\n",
       "\n",
       "    .dataframe thead th {\n",
       "        text-align: right;\n",
       "    }\n",
       "</style>\n",
       "<table border=\"1\" class=\"dataframe\">\n",
       "  <thead>\n",
       "    <tr style=\"text-align: right;\">\n",
       "      <th></th>\n",
       "      <th>Accuracy train</th>\n",
       "      <th>ROC AUC 5-CV train</th>\n",
       "      <th>ROC AUC 5-CV validate</th>\n",
       "      <th>ROC AUC train</th>\n",
       "    </tr>\n",
       "  </thead>\n",
       "  <tbody>\n",
       "    <tr>\n",
       "      <th>LogReg_previous</th>\n",
       "      <td>0.701</td>\n",
       "      <td>0.765 ± 0.001</td>\n",
       "      <td>0.761 ± 0.003</td>\n",
       "      <td>0.766</td>\n",
       "    </tr>\n",
       "  </tbody>\n",
       "</table>\n",
       "</div>"
      ],
      "text/plain": [
       "                 Accuracy train ROC AUC 5-CV train ROC AUC 5-CV validate  \\\n",
       "LogReg_previous           0.701      0.765 ± 0.001         0.761 ± 0.003   \n",
       "\n",
       "                 ROC AUC train  \n",
       "LogReg_previous          0.766  "
      ]
     },
     "metadata": {},
     "output_type": "display_data"
    },
    {
     "name": "stdout",
     "output_type": "stream",
     "text": [
      "Wall time: 7min 32s\n"
     ]
    }
   ],
   "source": [
    "%%time\n",
    "# evaluate LogReg_previous\n",
    "df_LogReg_previous, y_pred_proba_test = model_evaluation(model = LogReg_previous, \n",
    "                                                         tuning = False, \n",
    "                                                         train = app_train, \n",
    "                                                         test = app_test, \n",
    "                                                         name = 'LogReg_previous')\n",
    "display(df_LogReg_previous)"
   ]
  },
  {
   "cell_type": "code",
   "execution_count": 40,
   "id": "crucial-netscape",
   "metadata": {},
   "outputs": [
    {
     "data": {
      "text/html": [
       "<div>\n",
       "<style scoped>\n",
       "    .dataframe tbody tr th:only-of-type {\n",
       "        vertical-align: middle;\n",
       "    }\n",
       "\n",
       "    .dataframe tbody tr th {\n",
       "        vertical-align: top;\n",
       "    }\n",
       "\n",
       "    .dataframe thead th {\n",
       "        text-align: right;\n",
       "    }\n",
       "</style>\n",
       "<table border=\"1\" class=\"dataframe\">\n",
       "  <thead>\n",
       "    <tr style=\"text-align: right;\">\n",
       "      <th></th>\n",
       "      <th>SK_ID_CURR</th>\n",
       "      <th>TARGET</th>\n",
       "    </tr>\n",
       "  </thead>\n",
       "  <tbody>\n",
       "    <tr>\n",
       "      <th>0</th>\n",
       "      <td>100001</td>\n",
       "      <td>0.451521</td>\n",
       "    </tr>\n",
       "    <tr>\n",
       "      <th>1</th>\n",
       "      <td>100005</td>\n",
       "      <td>0.723502</td>\n",
       "    </tr>\n",
       "    <tr>\n",
       "      <th>2</th>\n",
       "      <td>100013</td>\n",
       "      <td>0.270515</td>\n",
       "    </tr>\n",
       "    <tr>\n",
       "      <th>3</th>\n",
       "      <td>100028</td>\n",
       "      <td>0.357498</td>\n",
       "    </tr>\n",
       "    <tr>\n",
       "      <th>4</th>\n",
       "      <td>100038</td>\n",
       "      <td>0.636697</td>\n",
       "    </tr>\n",
       "  </tbody>\n",
       "</table>\n",
       "</div>"
      ],
      "text/plain": [
       "   SK_ID_CURR    TARGET\n",
       "0      100001  0.451521\n",
       "1      100005  0.723502\n",
       "2      100013  0.270515\n",
       "3      100028  0.357498\n",
       "4      100038  0.636697"
      ]
     },
     "execution_count": 40,
     "metadata": {},
     "output_type": "execute_result"
    }
   ],
   "source": [
    "# create submission dataframe and save the submission to a csv file\n",
    "df_submit = app_test[['SK_ID_CURR']].copy()\n",
    "df_submit['TARGET'] = y_pred_proba_test\n",
    "df_submit.to_csv('submission/LogReg_previous.csv', index = False)\n",
    "df_submit.head()"
   ]
  },
  {
   "cell_type": "code",
   "execution_count": 41,
   "id": "occupational-liberal",
   "metadata": {},
   "outputs": [
    {
     "data": {
      "text/html": [
       "<div>\n",
       "<style scoped>\n",
       "    .dataframe tbody tr th:only-of-type {\n",
       "        vertical-align: middle;\n",
       "    }\n",
       "\n",
       "    .dataframe tbody tr th {\n",
       "        vertical-align: top;\n",
       "    }\n",
       "\n",
       "    .dataframe thead th {\n",
       "        text-align: right;\n",
       "    }\n",
       "</style>\n",
       "<table border=\"1\" class=\"dataframe\">\n",
       "  <thead>\n",
       "    <tr style=\"text-align: right;\">\n",
       "      <th></th>\n",
       "      <th>Accuracy train</th>\n",
       "      <th>ROC AUC 5-CV train</th>\n",
       "      <th>ROC AUC 5-CV validate</th>\n",
       "      <th>ROC AUC train</th>\n",
       "      <th>ROC AUC test</th>\n",
       "    </tr>\n",
       "  </thead>\n",
       "  <tbody>\n",
       "    <tr>\n",
       "      <th>LogReg_previous</th>\n",
       "      <td>0.701</td>\n",
       "      <td>0.765 ± 0.001</td>\n",
       "      <td>0.761 ± 0.003</td>\n",
       "      <td>0.766</td>\n",
       "      <td>0.752</td>\n",
       "    </tr>\n",
       "  </tbody>\n",
       "</table>\n",
       "</div>"
      ],
      "text/plain": [
       "                 Accuracy train ROC AUC 5-CV train ROC AUC 5-CV validate  \\\n",
       "LogReg_previous           0.701      0.765 ± 0.001         0.761 ± 0.003   \n",
       "\n",
       "                 ROC AUC train  ROC AUC test  \n",
       "LogReg_previous          0.766         0.752  "
      ]
     },
     "execution_count": 41,
     "metadata": {},
     "output_type": "execute_result"
    }
   ],
   "source": [
    "df_LogReg_previous['ROC AUC test'] = round(0.75188, 3)\n",
    "df_LogReg_previous"
   ]
  },
  {
   "cell_type": "markdown",
   "id": "applicable-romantic",
   "metadata": {},
   "source": [
    "- The `ROC AUC test` score is obtained after submit the submission file to [Kaggle](https://www.kaggle.com/competitions/home-credit-default-risk/overview) that is `0.75188`"
   ]
  },
  {
   "cell_type": "markdown",
   "id": "fourth-creature",
   "metadata": {},
   "source": [
    "#### LightGBM"
   ]
  },
  {
   "cell_type": "code",
   "execution_count": 42,
   "id": "constant-algebra",
   "metadata": {},
   "outputs": [
    {
     "name": "stdout",
     "output_type": "stream",
     "text": [
      "[Pipeline]  (step 1 of 2) Processing preprocessing_features, total=  33.9s\n",
      "[Pipeline] .............. (step 2 of 2) Processing LGBM, total=  26.4s\n",
      "done...\n",
      "Wall time: 2min 38s\n"
     ]
    }
   ],
   "source": [
    "%%time\n",
    "# create model for LGBM: LGBM_previous\n",
    "from lightgbm import LGBMClassifier\n",
    "\n",
    "LGBM_features_previous = get_feature_pipeline(numerical = num_columns + previous_app_columns, \n",
    "                                              nominal = nom_columns, \n",
    "                                              ordinal = ord_columns, \n",
    "                                              algorithm = 'GBM')\n",
    "LGBM_previous = Pipeline([('preprocessing_features', LGBM_features_previous),\n",
    "                          ('LGBM', LGBMClassifier(n_jobs = -1, class_weight = 'balanced', \n",
    "                                                  objective = 'binary', reg_alpha = 0.1, reg_lambda = 0.1,\n",
    "                                                  random_state = 42, subsample = 0.9))], verbose = True)\n",
    "LGBM_previous.fit(app_train.drop('TARGET', axis = 1),\n",
    "                  app_train[['TARGET']])\n",
    "print('done...')"
   ]
  },
  {
   "cell_type": "code",
   "execution_count": 43,
   "id": "closed-villa",
   "metadata": {},
   "outputs": [
    {
     "name": "stdout",
     "output_type": "stream",
     "text": [
      "[Pipeline]  (step 1 of 2) Processing preprocessing_features, total=  13.4s\n",
      "[Pipeline] .............. (step 2 of 2) Processing LGBM, total=  24.1s\n",
      "[Pipeline]  (step 1 of 2) Processing preprocessing_features, total=  13.2s\n",
      "[Pipeline] .............. (step 2 of 2) Processing LGBM, total=  25.2s\n",
      "[Pipeline]  (step 1 of 2) Processing preprocessing_features, total=  12.7s\n",
      "[Pipeline] .............. (step 2 of 2) Processing LGBM, total=  23.1s\n",
      "[Pipeline]  (step 1 of 2) Processing preprocessing_features, total=  11.3s\n",
      "[Pipeline] .............. (step 2 of 2) Processing LGBM, total=  22.2s\n",
      "[Pipeline]  (step 1 of 2) Processing preprocessing_features, total=  10.5s\n",
      "[Pipeline] .............. (step 2 of 2) Processing LGBM, total=  20.7s\n",
      "\n",
      "\n",
      "======== model evaluation metrics \"LGBM_previous\" ========\n",
      "confusion matrix and classification report \"app_train\": \n",
      "[[205321  77365]\n",
      " [  6354  18471]]\n",
      "              precision    recall  f1-score   support\n",
      "\n",
      "      repaid       0.97      0.73      0.83    282686\n",
      "  not repaid       0.19      0.74      0.31     24825\n",
      "\n",
      "    accuracy                           0.73    307511\n",
      "   macro avg       0.58      0.74      0.57    307511\n",
      "weighted avg       0.91      0.73      0.79    307511\n",
      "\n"
     ]
    },
    {
     "data": {
      "text/html": [
       "<div>\n",
       "<style scoped>\n",
       "    .dataframe tbody tr th:only-of-type {\n",
       "        vertical-align: middle;\n",
       "    }\n",
       "\n",
       "    .dataframe tbody tr th {\n",
       "        vertical-align: top;\n",
       "    }\n",
       "\n",
       "    .dataframe thead th {\n",
       "        text-align: right;\n",
       "    }\n",
       "</style>\n",
       "<table border=\"1\" class=\"dataframe\">\n",
       "  <thead>\n",
       "    <tr style=\"text-align: right;\">\n",
       "      <th></th>\n",
       "      <th>Accuracy train</th>\n",
       "      <th>ROC AUC 5-CV train</th>\n",
       "      <th>ROC AUC 5-CV validate</th>\n",
       "      <th>ROC AUC train</th>\n",
       "    </tr>\n",
       "  </thead>\n",
       "  <tbody>\n",
       "    <tr>\n",
       "      <th>LGBM_previous</th>\n",
       "      <td>0.728</td>\n",
       "      <td>0.822 ± 0.001</td>\n",
       "      <td>0.775 ± 0.004</td>\n",
       "      <td>0.814</td>\n",
       "    </tr>\n",
       "  </tbody>\n",
       "</table>\n",
       "</div>"
      ],
      "text/plain": [
       "               Accuracy train ROC AUC 5-CV train ROC AUC 5-CV validate  \\\n",
       "LGBM_previous           0.728      0.822 ± 0.001         0.775 ± 0.004   \n",
       "\n",
       "               ROC AUC train  \n",
       "LGBM_previous          0.814  "
      ]
     },
     "metadata": {},
     "output_type": "display_data"
    },
    {
     "name": "stdout",
     "output_type": "stream",
     "text": [
      "Wall time: 6min 39s\n"
     ]
    }
   ],
   "source": [
    "%%time\n",
    "# evaluate LGBM_bureau\n",
    "df_LGBM_previous, y_pred_proba_test = model_evaluation(model = LGBM_previous, \n",
    "                                                       tuning = False, \n",
    "                                                       train = app_train, \n",
    "                                                       test = app_test, \n",
    "                                                       name = 'LGBM_previous')\n",
    "display(df_LGBM_previous)"
   ]
  },
  {
   "cell_type": "code",
   "execution_count": 44,
   "id": "vietnamese-athletics",
   "metadata": {},
   "outputs": [
    {
     "data": {
      "text/html": [
       "<div>\n",
       "<style scoped>\n",
       "    .dataframe tbody tr th:only-of-type {\n",
       "        vertical-align: middle;\n",
       "    }\n",
       "\n",
       "    .dataframe tbody tr th {\n",
       "        vertical-align: top;\n",
       "    }\n",
       "\n",
       "    .dataframe thead th {\n",
       "        text-align: right;\n",
       "    }\n",
       "</style>\n",
       "<table border=\"1\" class=\"dataframe\">\n",
       "  <thead>\n",
       "    <tr style=\"text-align: right;\">\n",
       "      <th></th>\n",
       "      <th>SK_ID_CURR</th>\n",
       "      <th>TARGET</th>\n",
       "    </tr>\n",
       "  </thead>\n",
       "  <tbody>\n",
       "    <tr>\n",
       "      <th>0</th>\n",
       "      <td>100001</td>\n",
       "      <td>0.229201</td>\n",
       "    </tr>\n",
       "    <tr>\n",
       "      <th>1</th>\n",
       "      <td>100005</td>\n",
       "      <td>0.624715</td>\n",
       "    </tr>\n",
       "    <tr>\n",
       "      <th>2</th>\n",
       "      <td>100013</td>\n",
       "      <td>0.201213</td>\n",
       "    </tr>\n",
       "    <tr>\n",
       "      <th>3</th>\n",
       "      <td>100028</td>\n",
       "      <td>0.205693</td>\n",
       "    </tr>\n",
       "    <tr>\n",
       "      <th>4</th>\n",
       "      <td>100038</td>\n",
       "      <td>0.685995</td>\n",
       "    </tr>\n",
       "  </tbody>\n",
       "</table>\n",
       "</div>"
      ],
      "text/plain": [
       "   SK_ID_CURR    TARGET\n",
       "0      100001  0.229201\n",
       "1      100005  0.624715\n",
       "2      100013  0.201213\n",
       "3      100028  0.205693\n",
       "4      100038  0.685995"
      ]
     },
     "execution_count": 44,
     "metadata": {},
     "output_type": "execute_result"
    }
   ],
   "source": [
    "# create submission dataframe and save the submission to a csv file\n",
    "df_submit = app_test[['SK_ID_CURR']].copy()\n",
    "df_submit['TARGET'] = y_pred_proba_test\n",
    "df_submit.to_csv('submission/LGBM_previous.csv', index = False)\n",
    "df_submit.head()"
   ]
  },
  {
   "cell_type": "code",
   "execution_count": 45,
   "id": "tested-seven",
   "metadata": {},
   "outputs": [
    {
     "data": {
      "text/html": [
       "<div>\n",
       "<style scoped>\n",
       "    .dataframe tbody tr th:only-of-type {\n",
       "        vertical-align: middle;\n",
       "    }\n",
       "\n",
       "    .dataframe tbody tr th {\n",
       "        vertical-align: top;\n",
       "    }\n",
       "\n",
       "    .dataframe thead th {\n",
       "        text-align: right;\n",
       "    }\n",
       "</style>\n",
       "<table border=\"1\" class=\"dataframe\">\n",
       "  <thead>\n",
       "    <tr style=\"text-align: right;\">\n",
       "      <th></th>\n",
       "      <th>Accuracy train</th>\n",
       "      <th>ROC AUC 5-CV train</th>\n",
       "      <th>ROC AUC 5-CV validate</th>\n",
       "      <th>ROC AUC train</th>\n",
       "      <th>ROC AUC test</th>\n",
       "    </tr>\n",
       "  </thead>\n",
       "  <tbody>\n",
       "    <tr>\n",
       "      <th>LGBM_previous</th>\n",
       "      <td>0.728</td>\n",
       "      <td>0.822 ± 0.001</td>\n",
       "      <td>0.775 ± 0.004</td>\n",
       "      <td>0.814</td>\n",
       "      <td>0.763</td>\n",
       "    </tr>\n",
       "  </tbody>\n",
       "</table>\n",
       "</div>"
      ],
      "text/plain": [
       "               Accuracy train ROC AUC 5-CV train ROC AUC 5-CV validate  \\\n",
       "LGBM_previous           0.728      0.822 ± 0.001         0.775 ± 0.004   \n",
       "\n",
       "               ROC AUC train  ROC AUC test  \n",
       "LGBM_previous          0.814         0.763  "
      ]
     },
     "execution_count": 45,
     "metadata": {},
     "output_type": "execute_result"
    }
   ],
   "source": [
    "df_LGBM_previous['ROC AUC test'] = round(0.76260, 3)\n",
    "df_LGBM_previous"
   ]
  },
  {
   "cell_type": "markdown",
   "id": "scenic-boston",
   "metadata": {},
   "source": [
    "- The `ROC AUC test` score is obtained after submit the submission file to [Kaggle](https://www.kaggle.com/competitions/home-credit-default-risk/overview) that is `0.76260`"
   ]
  },
  {
   "cell_type": "markdown",
   "id": "elect-photograph",
   "metadata": {},
   "source": [
    "### Combine all the features and perform feature selection\n",
    "\n",
    "Overall, we see that after some feature engineering are conducted, the `ROC AUC test` score increases. Particulary when we use engineered features from domain knowledge (`creation_columns`), bureau app (`bureau_app_columns`), and previous app (`previous_app_columns`). We will try to select all these features and train the machine learning model with these features.\n",
    "\n",
    "We will use `LGBM` model for now since this model outperforms `Logistic Regression`.\n",
    "\n",
    "As we do so, we also want to perform feature selection of all these features and compare them all in order to obtain the one has the best performance. The feature selection method we are used:\n",
    "- Remove features with missing values more than 50%.\n",
    "- Remove features with all missing values.\n",
    "- Remove any features with a zero importance as determined by a gradient boosting machine (`LGBM`)."
   ]
  },
  {
   "cell_type": "code",
   "execution_count": 46,
   "id": "daily-province",
   "metadata": {},
   "outputs": [
    {
     "name": "stdout",
     "output_type": "stream",
     "text": [
      "Total features: 691\n"
     ]
    }
   ],
   "source": [
    "all_columns = num_columns + nom_columns + ord_columns + creation_columns + bureau_app_columns + previous_app_columns\n",
    "print('Total features:', len(all_columns))"
   ]
  },
  {
   "cell_type": "code",
   "execution_count": 47,
   "id": "fancy-sword",
   "metadata": {},
   "outputs": [],
   "source": [
    "def filter_missing_values(df, threshold):\n",
    "    percent_missing = df.isnull().sum() / df.shape[0] * 100\n",
    "    percent_missing = percent_missing.sort_values(ascending = False)\n",
    "    percent_missing = percent_missing[percent_missing < threshold]\n",
    "    selected_columns = list(percent_missing.index)\n",
    "    return selected_columns"
   ]
  },
  {
   "cell_type": "markdown",
   "id": "separate-sunrise",
   "metadata": {},
   "source": [
    "#### Combine all features"
   ]
  },
  {
   "cell_type": "code",
   "execution_count": 6,
   "id": "killing-guest",
   "metadata": {},
   "outputs": [
    {
     "name": "stdout",
     "output_type": "stream",
     "text": [
      "[Pipeline]  (step 1 of 2) Processing preprocessing_features, total=  52.1s\n",
      "[Pipeline] .............. (step 2 of 2) Processing LGBM, total=  36.2s\n",
      "done...\n",
      "Wall time: 1min 28s\n"
     ]
    }
   ],
   "source": [
    "%%time\n",
    "# create model for LGBM: LGBM_total\n",
    "from lightgbm import LGBMClassifier\n",
    "\n",
    "LGBM_features_total = get_feature_pipeline(numerical = num_columns + creation_columns + bureau_app_columns + previous_app_columns, \n",
    "                                           nominal = nom_columns, \n",
    "                                           ordinal = ord_columns, \n",
    "                                           algorithm = 'GBM')\n",
    "LGBM_total = Pipeline([('preprocessing_features', LGBM_features_total),\n",
    "                       ('LGBM', LGBMClassifier(n_jobs = -1, class_weight = 'balanced', \n",
    "                                               objective = 'binary', reg_alpha = 0.1, reg_lambda = 0.1,\n",
    "                                               random_state = 42, subsample = 0.9))], verbose = True)\n",
    "LGBM_total.fit(app_train.drop('TARGET', axis = 1),\n",
    "               app_train[['TARGET']])\n",
    "print('done...')"
   ]
  },
  {
   "cell_type": "code",
   "execution_count": 7,
   "id": "aerial-solution",
   "metadata": {},
   "outputs": [
    {
     "name": "stdout",
     "output_type": "stream",
     "text": [
      "[Pipeline]  (step 1 of 2) Processing preprocessing_features, total=  22.6s\n",
      "[Pipeline] .............. (step 2 of 2) Processing LGBM, total=  32.5s\n",
      "[Pipeline]  (step 1 of 2) Processing preprocessing_features, total=  25.8s\n",
      "[Pipeline] .............. (step 2 of 2) Processing LGBM, total=  33.1s\n",
      "[Pipeline]  (step 1 of 2) Processing preprocessing_features, total=  23.3s\n",
      "[Pipeline] .............. (step 2 of 2) Processing LGBM, total=  31.4s\n",
      "[Pipeline]  (step 1 of 2) Processing preprocessing_features, total=  23.7s\n",
      "[Pipeline] .............. (step 2 of 2) Processing LGBM, total=  31.7s\n",
      "[Pipeline]  (step 1 of 2) Processing preprocessing_features, total=  29.5s\n",
      "[Pipeline] .............. (step 2 of 2) Processing LGBM, total=  31.7s\n",
      "\n",
      "\n",
      "======== model evaluation metrics \"LGBM_total\" ========\n",
      "confusion matrix and classification report \"app_train\": \n",
      "[[207873  74813]\n",
      " [  6228  18597]]\n",
      "              precision    recall  f1-score   support\n",
      "\n",
      "      repaid       0.97      0.74      0.84    282686\n",
      "  not repaid       0.20      0.75      0.31     24825\n",
      "\n",
      "    accuracy                           0.74    307511\n",
      "   macro avg       0.59      0.74      0.58    307511\n",
      "weighted avg       0.91      0.74      0.79    307511\n",
      "\n"
     ]
    },
    {
     "data": {
      "text/html": [
       "<div>\n",
       "<style scoped>\n",
       "    .dataframe tbody tr th:only-of-type {\n",
       "        vertical-align: middle;\n",
       "    }\n",
       "\n",
       "    .dataframe tbody tr th {\n",
       "        vertical-align: top;\n",
       "    }\n",
       "\n",
       "    .dataframe thead th {\n",
       "        text-align: right;\n",
       "    }\n",
       "</style>\n",
       "<table border=\"1\" class=\"dataframe\">\n",
       "  <thead>\n",
       "    <tr style=\"text-align: right;\">\n",
       "      <th></th>\n",
       "      <th>Accuracy train</th>\n",
       "      <th>ROC AUC 5-CV train</th>\n",
       "      <th>ROC AUC 5-CV validate</th>\n",
       "      <th>ROC AUC train</th>\n",
       "    </tr>\n",
       "  </thead>\n",
       "  <tbody>\n",
       "    <tr>\n",
       "      <th>LGBM_total</th>\n",
       "      <td>0.736</td>\n",
       "      <td>0.829 ± 0.0</td>\n",
       "      <td>0.781 ± 0.003</td>\n",
       "      <td>0.821</td>\n",
       "    </tr>\n",
       "  </tbody>\n",
       "</table>\n",
       "</div>"
      ],
      "text/plain": [
       "            Accuracy train ROC AUC 5-CV train ROC AUC 5-CV validate  \\\n",
       "LGBM_total           0.736        0.829 ± 0.0         0.781 ± 0.003   \n",
       "\n",
       "            ROC AUC train  \n",
       "LGBM_total          0.821  "
      ]
     },
     "metadata": {},
     "output_type": "display_data"
    },
    {
     "name": "stdout",
     "output_type": "stream",
     "text": [
      "Wall time: 8min 30s\n"
     ]
    }
   ],
   "source": [
    "%%time\n",
    "# evaluate LGBM_total\n",
    "df_LGBM_total, y_pred_proba_test = model_evaluation(model = LGBM_total, \n",
    "                                                    tuning = False, \n",
    "                                                    train = app_train, \n",
    "                                                    test = app_test, \n",
    "                                                    name = 'LGBM_total')\n",
    "display(df_LGBM_total)"
   ]
  },
  {
   "cell_type": "code",
   "execution_count": 8,
   "id": "provincial-volleyball",
   "metadata": {},
   "outputs": [
    {
     "data": {
      "text/html": [
       "<div>\n",
       "<style scoped>\n",
       "    .dataframe tbody tr th:only-of-type {\n",
       "        vertical-align: middle;\n",
       "    }\n",
       "\n",
       "    .dataframe tbody tr th {\n",
       "        vertical-align: top;\n",
       "    }\n",
       "\n",
       "    .dataframe thead th {\n",
       "        text-align: right;\n",
       "    }\n",
       "</style>\n",
       "<table border=\"1\" class=\"dataframe\">\n",
       "  <thead>\n",
       "    <tr style=\"text-align: right;\">\n",
       "      <th></th>\n",
       "      <th>SK_ID_CURR</th>\n",
       "      <th>TARGET</th>\n",
       "    </tr>\n",
       "  </thead>\n",
       "  <tbody>\n",
       "    <tr>\n",
       "      <th>0</th>\n",
       "      <td>100001</td>\n",
       "      <td>0.306396</td>\n",
       "    </tr>\n",
       "    <tr>\n",
       "      <th>1</th>\n",
       "      <td>100005</td>\n",
       "      <td>0.598016</td>\n",
       "    </tr>\n",
       "    <tr>\n",
       "      <th>2</th>\n",
       "      <td>100013</td>\n",
       "      <td>0.184054</td>\n",
       "    </tr>\n",
       "    <tr>\n",
       "      <th>3</th>\n",
       "      <td>100028</td>\n",
       "      <td>0.264778</td>\n",
       "    </tr>\n",
       "    <tr>\n",
       "      <th>4</th>\n",
       "      <td>100038</td>\n",
       "      <td>0.691508</td>\n",
       "    </tr>\n",
       "  </tbody>\n",
       "</table>\n",
       "</div>"
      ],
      "text/plain": [
       "   SK_ID_CURR    TARGET\n",
       "0      100001  0.306396\n",
       "1      100005  0.598016\n",
       "2      100013  0.184054\n",
       "3      100028  0.264778\n",
       "4      100038  0.691508"
      ]
     },
     "execution_count": 8,
     "metadata": {},
     "output_type": "execute_result"
    }
   ],
   "source": [
    "# create submission dataframe and save the submission to a csv file\n",
    "df_submit = app_test[['SK_ID_CURR']].copy()\n",
    "df_submit['TARGET'] = y_pred_proba_test\n",
    "df_submit.to_csv('submission/LGBM_total.csv', index = False)\n",
    "df_submit.head()"
   ]
  },
  {
   "cell_type": "code",
   "execution_count": 9,
   "id": "vital-checkout",
   "metadata": {},
   "outputs": [
    {
     "data": {
      "text/html": [
       "<div>\n",
       "<style scoped>\n",
       "    .dataframe tbody tr th:only-of-type {\n",
       "        vertical-align: middle;\n",
       "    }\n",
       "\n",
       "    .dataframe tbody tr th {\n",
       "        vertical-align: top;\n",
       "    }\n",
       "\n",
       "    .dataframe thead th {\n",
       "        text-align: right;\n",
       "    }\n",
       "</style>\n",
       "<table border=\"1\" class=\"dataframe\">\n",
       "  <thead>\n",
       "    <tr style=\"text-align: right;\">\n",
       "      <th></th>\n",
       "      <th>Accuracy train</th>\n",
       "      <th>ROC AUC 5-CV train</th>\n",
       "      <th>ROC AUC 5-CV validate</th>\n",
       "      <th>ROC AUC train</th>\n",
       "      <th>ROC AUC test</th>\n",
       "    </tr>\n",
       "  </thead>\n",
       "  <tbody>\n",
       "    <tr>\n",
       "      <th>LGBM_total</th>\n",
       "      <td>0.736</td>\n",
       "      <td>0.829 ± 0.0</td>\n",
       "      <td>0.781 ± 0.003</td>\n",
       "      <td>0.821</td>\n",
       "      <td>0.777</td>\n",
       "    </tr>\n",
       "  </tbody>\n",
       "</table>\n",
       "</div>"
      ],
      "text/plain": [
       "            Accuracy train ROC AUC 5-CV train ROC AUC 5-CV validate  \\\n",
       "LGBM_total           0.736        0.829 ± 0.0         0.781 ± 0.003   \n",
       "\n",
       "            ROC AUC train  ROC AUC test  \n",
       "LGBM_total          0.821         0.777  "
      ]
     },
     "execution_count": 9,
     "metadata": {},
     "output_type": "execute_result"
    }
   ],
   "source": [
    "df_LGBM_total['ROC AUC test'] = round(0.77693, 3)\n",
    "df_LGBM_total"
   ]
  },
  {
   "cell_type": "markdown",
   "id": "vocational-boating",
   "metadata": {},
   "source": [
    "- The `ROC AUC test` score is obtained after submit the submission file to [Kaggle](https://www.kaggle.com/competitions/home-credit-default-risk/overview) that is `0.77693`"
   ]
  },
  {
   "cell_type": "markdown",
   "id": "complimentary-stations",
   "metadata": {},
   "source": [
    "#### Remove missing values more than 50%"
   ]
  },
  {
   "cell_type": "code",
   "execution_count": 52,
   "id": "pursuant-finger",
   "metadata": {},
   "outputs": [
    {
     "name": "stdout",
     "output_type": "stream",
     "text": [
      "Check length: True\n",
      "From 691 total features... we have selected 527 features\n"
     ]
    }
   ],
   "source": [
    "# select all columns with less than 50% of missing values\n",
    "select_columns = filter_missing_values(df = app_train[all_columns], \n",
    "                                       threshold = 50)\n",
    "num_columns_1 = [col for col in num_columns if col in select_columns]\n",
    "nom_columns_1 = [col for col in nom_columns if col in select_columns]\n",
    "ord_columns_1 = [col for col in ord_columns if col in select_columns]\n",
    "creation_columns_1 = [col for col in creation_columns if col in select_columns]\n",
    "bureau_app_columns_1 = [col for col in bureau_app_columns if col in select_columns]\n",
    "previous_app_columns_1 = [col for col in previous_app_columns if col in select_columns]\n",
    "print('Check length:', len(num_columns_1) + len(nom_columns_1) + len(ord_columns_1) + len(creation_columns_1) + len(bureau_app_columns_1) + len(previous_app_columns_1) == len(select_columns))\n",
    "print('From {} total features... we have selected {} features'.format(len(all_columns), len(select_columns)))"
   ]
  },
  {
   "cell_type": "code",
   "execution_count": 53,
   "id": "divine-showcase",
   "metadata": {},
   "outputs": [
    {
     "name": "stdout",
     "output_type": "stream",
     "text": [
      "[Pipeline]  (step 1 of 2) Processing preprocessing_features, total=  23.6s\n",
      "[Pipeline] .............. (step 2 of 2) Processing LGBM, total=  29.4s\n",
      "done...\n",
      "Wall time: 56 s\n"
     ]
    }
   ],
   "source": [
    "%%time\n",
    "# create model for LGBM: LGBM_missing50\n",
    "from lightgbm import LGBMClassifier\n",
    "\n",
    "LGBM_features_missing50 = get_feature_pipeline(numerical = num_columns_1 + creation_columns_1 + bureau_app_columns_1 + previous_app_columns_1, \n",
    "                                               nominal = nom_columns_1, \n",
    "                                               ordinal = ord_columns_1, \n",
    "                                               algorithm = 'GBM')\n",
    "LGBM_missing50 = Pipeline([('preprocessing_features', LGBM_features_missing50),\n",
    "                           ('LGBM', LGBMClassifier(n_jobs = -1, class_weight = 'balanced', \n",
    "                                                   objective = 'binary', reg_alpha = 0.1, reg_lambda = 0.1,\n",
    "                                                   random_state = 42, subsample = 0.9))], verbose = True)\n",
    "LGBM_missing50.fit(app_train.drop('TARGET', axis = 1),\n",
    "                   app_train[['TARGET']])\n",
    "print('done...')"
   ]
  },
  {
   "cell_type": "code",
   "execution_count": 54,
   "id": "artificial-cookbook",
   "metadata": {},
   "outputs": [
    {
     "name": "stdout",
     "output_type": "stream",
     "text": [
      "[Pipeline]  (step 1 of 2) Processing preprocessing_features, total=  13.0s\n",
      "[Pipeline] .............. (step 2 of 2) Processing LGBM, total=  26.1s\n",
      "[Pipeline]  (step 1 of 2) Processing preprocessing_features, total=  15.8s\n",
      "[Pipeline] .............. (step 2 of 2) Processing LGBM, total=  23.6s\n",
      "[Pipeline]  (step 1 of 2) Processing preprocessing_features, total=  11.2s\n",
      "[Pipeline] .............. (step 2 of 2) Processing LGBM, total=  22.5s\n",
      "[Pipeline]  (step 1 of 2) Processing preprocessing_features, total=  11.2s\n",
      "[Pipeline] .............. (step 2 of 2) Processing LGBM, total=  25.0s\n",
      "[Pipeline]  (step 1 of 2) Processing preprocessing_features, total=  12.9s\n",
      "[Pipeline] .............. (step 2 of 2) Processing LGBM, total=  25.9s\n",
      "\n",
      "\n",
      "======== model evaluation metrics \"LGBM_missing50\" ========\n",
      "confusion matrix and classification report \"app_train\": \n",
      "[[207414  75272]\n",
      " [  6346  18479]]\n",
      "              precision    recall  f1-score   support\n",
      "\n",
      "      repaid       0.97      0.73      0.84    282686\n",
      "  not repaid       0.20      0.74      0.31     24825\n",
      "\n",
      "    accuracy                           0.73    307511\n",
      "   macro avg       0.58      0.74      0.57    307511\n",
      "weighted avg       0.91      0.73      0.79    307511\n",
      "\n"
     ]
    },
    {
     "data": {
      "text/html": [
       "<div>\n",
       "<style scoped>\n",
       "    .dataframe tbody tr th:only-of-type {\n",
       "        vertical-align: middle;\n",
       "    }\n",
       "\n",
       "    .dataframe tbody tr th {\n",
       "        vertical-align: top;\n",
       "    }\n",
       "\n",
       "    .dataframe thead th {\n",
       "        text-align: right;\n",
       "    }\n",
       "</style>\n",
       "<table border=\"1\" class=\"dataframe\">\n",
       "  <thead>\n",
       "    <tr style=\"text-align: right;\">\n",
       "      <th></th>\n",
       "      <th>Accuracy train</th>\n",
       "      <th>ROC AUC 5-CV train</th>\n",
       "      <th>ROC AUC 5-CV validate</th>\n",
       "      <th>ROC AUC train</th>\n",
       "    </tr>\n",
       "  </thead>\n",
       "  <tbody>\n",
       "    <tr>\n",
       "      <th>LGBM_missing50</th>\n",
       "      <td>0.735</td>\n",
       "      <td>0.825 ± 0.0</td>\n",
       "      <td>0.778 ± 0.003</td>\n",
       "      <td>0.818</td>\n",
       "    </tr>\n",
       "  </tbody>\n",
       "</table>\n",
       "</div>"
      ],
      "text/plain": [
       "                Accuracy train ROC AUC 5-CV train ROC AUC 5-CV validate  \\\n",
       "LGBM_missing50           0.735        0.825 ± 0.0         0.778 ± 0.003   \n",
       "\n",
       "                ROC AUC train  \n",
       "LGBM_missing50          0.818  "
      ]
     },
     "metadata": {},
     "output_type": "display_data"
    },
    {
     "name": "stdout",
     "output_type": "stream",
     "text": [
      "Wall time: 6min 56s\n"
     ]
    }
   ],
   "source": [
    "%%time\n",
    "# evaluate LGBM_total\n",
    "df_LGBM_missing50, y_pred_proba_test = model_evaluation(model = LGBM_missing50, \n",
    "                                                        tuning = False, \n",
    "                                                        train = app_train, \n",
    "                                                        test = app_test, \n",
    "                                                        name = 'LGBM_missing50')\n",
    "display(df_LGBM_missing50)"
   ]
  },
  {
   "cell_type": "code",
   "execution_count": 55,
   "id": "figured-interface",
   "metadata": {},
   "outputs": [
    {
     "data": {
      "text/html": [
       "<div>\n",
       "<style scoped>\n",
       "    .dataframe tbody tr th:only-of-type {\n",
       "        vertical-align: middle;\n",
       "    }\n",
       "\n",
       "    .dataframe tbody tr th {\n",
       "        vertical-align: top;\n",
       "    }\n",
       "\n",
       "    .dataframe thead th {\n",
       "        text-align: right;\n",
       "    }\n",
       "</style>\n",
       "<table border=\"1\" class=\"dataframe\">\n",
       "  <thead>\n",
       "    <tr style=\"text-align: right;\">\n",
       "      <th></th>\n",
       "      <th>SK_ID_CURR</th>\n",
       "      <th>TARGET</th>\n",
       "    </tr>\n",
       "  </thead>\n",
       "  <tbody>\n",
       "    <tr>\n",
       "      <th>0</th>\n",
       "      <td>100001</td>\n",
       "      <td>0.270755</td>\n",
       "    </tr>\n",
       "    <tr>\n",
       "      <th>1</th>\n",
       "      <td>100005</td>\n",
       "      <td>0.542408</td>\n",
       "    </tr>\n",
       "    <tr>\n",
       "      <th>2</th>\n",
       "      <td>100013</td>\n",
       "      <td>0.149065</td>\n",
       "    </tr>\n",
       "    <tr>\n",
       "      <th>3</th>\n",
       "      <td>100028</td>\n",
       "      <td>0.229825</td>\n",
       "    </tr>\n",
       "    <tr>\n",
       "      <th>4</th>\n",
       "      <td>100038</td>\n",
       "      <td>0.554794</td>\n",
       "    </tr>\n",
       "  </tbody>\n",
       "</table>\n",
       "</div>"
      ],
      "text/plain": [
       "   SK_ID_CURR    TARGET\n",
       "0      100001  0.270755\n",
       "1      100005  0.542408\n",
       "2      100013  0.149065\n",
       "3      100028  0.229825\n",
       "4      100038  0.554794"
      ]
     },
     "execution_count": 55,
     "metadata": {},
     "output_type": "execute_result"
    }
   ],
   "source": [
    "# create submission dataframe and save the submission to a csv file\n",
    "df_submit = app_test[['SK_ID_CURR']].copy()\n",
    "df_submit['TARGET'] = y_pred_proba_test\n",
    "df_submit.to_csv('submission/LGBM_missing50.csv', index = False)\n",
    "df_submit.head()"
   ]
  },
  {
   "cell_type": "code",
   "execution_count": 56,
   "id": "german-december",
   "metadata": {},
   "outputs": [
    {
     "data": {
      "text/html": [
       "<div>\n",
       "<style scoped>\n",
       "    .dataframe tbody tr th:only-of-type {\n",
       "        vertical-align: middle;\n",
       "    }\n",
       "\n",
       "    .dataframe tbody tr th {\n",
       "        vertical-align: top;\n",
       "    }\n",
       "\n",
       "    .dataframe thead th {\n",
       "        text-align: right;\n",
       "    }\n",
       "</style>\n",
       "<table border=\"1\" class=\"dataframe\">\n",
       "  <thead>\n",
       "    <tr style=\"text-align: right;\">\n",
       "      <th></th>\n",
       "      <th>Accuracy train</th>\n",
       "      <th>ROC AUC 5-CV train</th>\n",
       "      <th>ROC AUC 5-CV validate</th>\n",
       "      <th>ROC AUC train</th>\n",
       "      <th>ROC AUC test</th>\n",
       "    </tr>\n",
       "  </thead>\n",
       "  <tbody>\n",
       "    <tr>\n",
       "      <th>LGBM_missing50</th>\n",
       "      <td>0.735</td>\n",
       "      <td>0.825 ± 0.0</td>\n",
       "      <td>0.778 ± 0.003</td>\n",
       "      <td>0.818</td>\n",
       "      <td>0.772</td>\n",
       "    </tr>\n",
       "  </tbody>\n",
       "</table>\n",
       "</div>"
      ],
      "text/plain": [
       "                Accuracy train ROC AUC 5-CV train ROC AUC 5-CV validate  \\\n",
       "LGBM_missing50           0.735        0.825 ± 0.0         0.778 ± 0.003   \n",
       "\n",
       "                ROC AUC train  ROC AUC test  \n",
       "LGBM_missing50          0.818         0.772  "
      ]
     },
     "execution_count": 56,
     "metadata": {},
     "output_type": "execute_result"
    }
   ],
   "source": [
    "df_LGBM_missing50['ROC AUC test'] = round(0.77154, 3)\n",
    "df_LGBM_missing50"
   ]
  },
  {
   "cell_type": "markdown",
   "id": "adaptive-tonight",
   "metadata": {},
   "source": [
    "- The `ROC AUC test` score is obtained after submit the submission file to [Kaggle](https://www.kaggle.com/competitions/home-credit-default-risk/overview) that is `0.77154`"
   ]
  },
  {
   "cell_type": "markdown",
   "id": "worth-deficit",
   "metadata": {},
   "source": [
    "#### Remove all missing values"
   ]
  },
  {
   "cell_type": "code",
   "execution_count": 57,
   "id": "higher-surface",
   "metadata": {},
   "outputs": [
    {
     "name": "stdout",
     "output_type": "stream",
     "text": [
      "Check length: True\n",
      "From 691 total features... we have selected 44 features\n"
     ]
    }
   ],
   "source": [
    "# select all columns with no missing values\n",
    "select_columns = filter_missing_values(df = app_train[all_columns], \n",
    "                                       threshold = 0.0000001)\n",
    "num_columns_2 = [col for col in num_columns if col in select_columns]\n",
    "nom_columns_2 = [col for col in nom_columns if col in select_columns]\n",
    "ord_columns_2 = [col for col in ord_columns if col in select_columns]\n",
    "creation_columns_2 = [col for col in creation_columns if col in select_columns]\n",
    "bureau_app_columns_2 = [col for col in bureau_app_columns if col in select_columns]\n",
    "previous_app_columns_2 = [col for col in previous_app_columns if col in select_columns]\n",
    "print('Check length:', len(num_columns_2) + len(nom_columns_2) + len(ord_columns_2) + len(creation_columns_2) + len(bureau_app_columns_2) + len(previous_app_columns_2) == len(select_columns))\n",
    "print('From {} total features... we have selected {} features'.format(len(all_columns), len(select_columns)))"
   ]
  },
  {
   "cell_type": "code",
   "execution_count": 58,
   "id": "sweet-dover",
   "metadata": {},
   "outputs": [
    {
     "name": "stdout",
     "output_type": "stream",
     "text": [
      "[Pipeline]  (step 1 of 2) Processing preprocessing_features, total=   1.5s\n",
      "[Pipeline] .............. (step 2 of 2) Processing LGBM, total=   2.1s\n",
      "done...\n",
      "Wall time: 4.53 s\n"
     ]
    }
   ],
   "source": [
    "%%time\n",
    "# create model for LGBM: LGBM_missing0\n",
    "from lightgbm import LGBMClassifier\n",
    "\n",
    "LGBM_features_missing0 = get_feature_pipeline(numerical = num_columns_2 + creation_columns_2 + bureau_app_columns_2 + previous_app_columns_2, \n",
    "                                              nominal = nom_columns_2, \n",
    "                                              ordinal = ord_columns_2, \n",
    "                                              algorithm = 'GBM')\n",
    "LGBM_missing0 = Pipeline([('preprocessing_features', LGBM_features_missing0),\n",
    "                          ('LGBM', LGBMClassifier(n_jobs = -1, class_weight = 'balanced', \n",
    "                                                  objective = 'binary', reg_alpha = 0.1, reg_lambda = 0.1,\n",
    "                                                  random_state = 42, subsample = 0.9))], verbose = True)\n",
    "LGBM_missing0.fit(app_train.drop('TARGET', axis = 1),\n",
    "                  app_train[['TARGET']])\n",
    "print('done...')"
   ]
  },
  {
   "cell_type": "code",
   "execution_count": 59,
   "id": "ready-cooling",
   "metadata": {},
   "outputs": [
    {
     "name": "stdout",
     "output_type": "stream",
     "text": [
      "[Pipeline]  (step 1 of 2) Processing preprocessing_features, total=   1.2s\n",
      "[Pipeline] .............. (step 2 of 2) Processing LGBM, total=   1.7s\n",
      "[Pipeline]  (step 1 of 2) Processing preprocessing_features, total=   1.2s\n",
      "[Pipeline] .............. (step 2 of 2) Processing LGBM, total=   1.8s\n",
      "[Pipeline]  (step 1 of 2) Processing preprocessing_features, total=   1.2s\n",
      "[Pipeline] .............. (step 2 of 2) Processing LGBM, total=   1.8s\n",
      "[Pipeline]  (step 1 of 2) Processing preprocessing_features, total=   1.2s\n",
      "[Pipeline] .............. (step 2 of 2) Processing LGBM, total=   1.8s\n",
      "[Pipeline]  (step 1 of 2) Processing preprocessing_features, total=   1.2s\n",
      "[Pipeline] .............. (step 2 of 2) Processing LGBM, total=   1.8s\n",
      "\n",
      "\n",
      "======== model evaluation metrics \"LGBM_missing0\" ========\n",
      "confusion matrix and classification report \"app_train\": \n",
      "[[192382  90304]\n",
      " [  7610  17215]]\n",
      "              precision    recall  f1-score   support\n",
      "\n",
      "      repaid       0.96      0.68      0.80    282686\n",
      "  not repaid       0.16      0.69      0.26     24825\n",
      "\n",
      "    accuracy                           0.68    307511\n",
      "   macro avg       0.56      0.69      0.53    307511\n",
      "weighted avg       0.90      0.68      0.75    307511\n",
      "\n"
     ]
    },
    {
     "data": {
      "text/html": [
       "<div>\n",
       "<style scoped>\n",
       "    .dataframe tbody tr th:only-of-type {\n",
       "        vertical-align: middle;\n",
       "    }\n",
       "\n",
       "    .dataframe tbody tr th {\n",
       "        vertical-align: top;\n",
       "    }\n",
       "\n",
       "    .dataframe thead th {\n",
       "        text-align: right;\n",
       "    }\n",
       "</style>\n",
       "<table border=\"1\" class=\"dataframe\">\n",
       "  <thead>\n",
       "    <tr style=\"text-align: right;\">\n",
       "      <th></th>\n",
       "      <th>Accuracy train</th>\n",
       "      <th>ROC AUC 5-CV train</th>\n",
       "      <th>ROC AUC 5-CV validate</th>\n",
       "      <th>ROC AUC train</th>\n",
       "    </tr>\n",
       "  </thead>\n",
       "  <tbody>\n",
       "    <tr>\n",
       "      <th>LGBM_missing0</th>\n",
       "      <td>0.682</td>\n",
       "      <td>0.761 ± 0.001</td>\n",
       "      <td>0.725 ± 0.003</td>\n",
       "      <td>0.755</td>\n",
       "    </tr>\n",
       "  </tbody>\n",
       "</table>\n",
       "</div>"
      ],
      "text/plain": [
       "               Accuracy train ROC AUC 5-CV train ROC AUC 5-CV validate  \\\n",
       "LGBM_missing0           0.682      0.761 ± 0.001         0.725 ± 0.003   \n",
       "\n",
       "               ROC AUC train  \n",
       "LGBM_missing0          0.755  "
      ]
     },
     "metadata": {},
     "output_type": "display_data"
    },
    {
     "name": "stdout",
     "output_type": "stream",
     "text": [
      "Wall time: 35 s\n"
     ]
    }
   ],
   "source": [
    "%%time\n",
    "# evaluate LGBM_total\n",
    "df_LGBM_missing0, y_pred_proba_test = model_evaluation(model = LGBM_missing0, \n",
    "                                                        tuning = False, \n",
    "                                                        train = app_train, \n",
    "                                                        test = app_test, \n",
    "                                                        name = 'LGBM_missing0')\n",
    "display(df_LGBM_missing0)"
   ]
  },
  {
   "cell_type": "code",
   "execution_count": 60,
   "id": "generic-british",
   "metadata": {},
   "outputs": [
    {
     "data": {
      "text/html": [
       "<div>\n",
       "<style scoped>\n",
       "    .dataframe tbody tr th:only-of-type {\n",
       "        vertical-align: middle;\n",
       "    }\n",
       "\n",
       "    .dataframe tbody tr th {\n",
       "        vertical-align: top;\n",
       "    }\n",
       "\n",
       "    .dataframe thead th {\n",
       "        text-align: right;\n",
       "    }\n",
       "</style>\n",
       "<table border=\"1\" class=\"dataframe\">\n",
       "  <thead>\n",
       "    <tr style=\"text-align: right;\">\n",
       "      <th></th>\n",
       "      <th>SK_ID_CURR</th>\n",
       "      <th>TARGET</th>\n",
       "    </tr>\n",
       "  </thead>\n",
       "  <tbody>\n",
       "    <tr>\n",
       "      <th>0</th>\n",
       "      <td>100001</td>\n",
       "      <td>0.252077</td>\n",
       "    </tr>\n",
       "    <tr>\n",
       "      <th>1</th>\n",
       "      <td>100005</td>\n",
       "      <td>0.389090</td>\n",
       "    </tr>\n",
       "    <tr>\n",
       "      <th>2</th>\n",
       "      <td>100013</td>\n",
       "      <td>0.256110</td>\n",
       "    </tr>\n",
       "    <tr>\n",
       "      <th>3</th>\n",
       "      <td>100028</td>\n",
       "      <td>0.319569</td>\n",
       "    </tr>\n",
       "    <tr>\n",
       "      <th>4</th>\n",
       "      <td>100038</td>\n",
       "      <td>0.627514</td>\n",
       "    </tr>\n",
       "  </tbody>\n",
       "</table>\n",
       "</div>"
      ],
      "text/plain": [
       "   SK_ID_CURR    TARGET\n",
       "0      100001  0.252077\n",
       "1      100005  0.389090\n",
       "2      100013  0.256110\n",
       "3      100028  0.319569\n",
       "4      100038  0.627514"
      ]
     },
     "execution_count": 60,
     "metadata": {},
     "output_type": "execute_result"
    }
   ],
   "source": [
    "# create submission dataframe and save the submission to a csv file\n",
    "df_submit = app_test[['SK_ID_CURR']].copy()\n",
    "df_submit['TARGET'] = y_pred_proba_test\n",
    "df_submit.to_csv('submission/LGBM_missing0.csv', index = False)\n",
    "df_submit.head()"
   ]
  },
  {
   "cell_type": "code",
   "execution_count": 61,
   "id": "veterinary-medicaid",
   "metadata": {},
   "outputs": [
    {
     "data": {
      "text/html": [
       "<div>\n",
       "<style scoped>\n",
       "    .dataframe tbody tr th:only-of-type {\n",
       "        vertical-align: middle;\n",
       "    }\n",
       "\n",
       "    .dataframe tbody tr th {\n",
       "        vertical-align: top;\n",
       "    }\n",
       "\n",
       "    .dataframe thead th {\n",
       "        text-align: right;\n",
       "    }\n",
       "</style>\n",
       "<table border=\"1\" class=\"dataframe\">\n",
       "  <thead>\n",
       "    <tr style=\"text-align: right;\">\n",
       "      <th></th>\n",
       "      <th>Accuracy train</th>\n",
       "      <th>ROC AUC 5-CV train</th>\n",
       "      <th>ROC AUC 5-CV validate</th>\n",
       "      <th>ROC AUC train</th>\n",
       "      <th>ROC AUC test</th>\n",
       "    </tr>\n",
       "  </thead>\n",
       "  <tbody>\n",
       "    <tr>\n",
       "      <th>LGBM_missing0</th>\n",
       "      <td>0.682</td>\n",
       "      <td>0.761 ± 0.001</td>\n",
       "      <td>0.725 ± 0.003</td>\n",
       "      <td>0.755</td>\n",
       "      <td>0.703</td>\n",
       "    </tr>\n",
       "  </tbody>\n",
       "</table>\n",
       "</div>"
      ],
      "text/plain": [
       "               Accuracy train ROC AUC 5-CV train ROC AUC 5-CV validate  \\\n",
       "LGBM_missing0           0.682      0.761 ± 0.001         0.725 ± 0.003   \n",
       "\n",
       "               ROC AUC train  ROC AUC test  \n",
       "LGBM_missing0          0.755         0.703  "
      ]
     },
     "execution_count": 61,
     "metadata": {},
     "output_type": "execute_result"
    }
   ],
   "source": [
    "df_LGBM_missing0['ROC AUC test'] = round(0.70272, 3)\n",
    "df_LGBM_missing0"
   ]
  },
  {
   "cell_type": "markdown",
   "id": "checked-senior",
   "metadata": {},
   "source": [
    "- The `ROC AUC test` score is obtained after submit the submission file to [Kaggle](https://www.kaggle.com/competitions/home-credit-default-risk/overview) that is `0.70272`"
   ]
  },
  {
   "cell_type": "markdown",
   "id": "sized-alarm",
   "metadata": {},
   "source": [
    "#### Remove any features with zero importances from LGBM model"
   ]
  },
  {
   "cell_type": "code",
   "execution_count": 62,
   "id": "classical-arbitration",
   "metadata": {},
   "outputs": [
    {
     "name": "stdout",
     "output_type": "stream",
     "text": [
      "From 691 total features... we have selected 400 features\n"
     ]
    }
   ],
   "source": [
    "# select only non zero importance features from 'LGBM_total'\n",
    "feature_importance_LGBM_total = feature_importance(LGBM_total, \n",
    "                                                   plot = False)\n",
    "select_columns = list(feature_importance_LGBM_total[feature_importance_LGBM_total['Number of Split'] > 0].index)\n",
    "num_columns_3 = [col for col in select_columns if col in num_columns]\n",
    "nom_columns_3 = [col for col in select_columns if col in nom_columns]\n",
    "ord_columns_3 = [col for col in select_columns if col in ord_columns]\n",
    "creation_columns_3 = [col for col in select_columns if col in creation_columns]\n",
    "bureau_app_columns_3 = [col for col in select_columns if col in bureau_app_columns]\n",
    "previous_app_columns_3 = [col for col in select_columns if col in previous_app_columns]\n",
    "\n",
    "print('From {} total features... we have selected {} features'.format(len(all_columns), len(select_columns)))"
   ]
  },
  {
   "cell_type": "code",
   "execution_count": 63,
   "id": "sought-stewart",
   "metadata": {},
   "outputs": [
    {
     "name": "stdout",
     "output_type": "stream",
     "text": [
      "[Pipeline]  (step 1 of 2) Processing preprocessing_features, total=  10.0s\n",
      "[Pipeline] .............. (step 2 of 2) Processing LGBM, total=  23.0s\n",
      "done...\n",
      "Wall time: 33.6 s\n"
     ]
    }
   ],
   "source": [
    "%%time\n",
    "# create model for LGBM: LGBM_importance\n",
    "from lightgbm import LGBMClassifier\n",
    "\n",
    "LGBM_features_importance = get_feature_pipeline(numerical = num_columns_3 + creation_columns_3 + bureau_app_columns_3 + previous_app_columns_3, \n",
    "                                                nominal = nom_columns_3, \n",
    "                                                ordinal = ord_columns_3, \n",
    "                                                algorithm = 'GBM')\n",
    "LGBM_importance = Pipeline([('preprocessing_features', LGBM_features_importance),\n",
    "                            ('LGBM', LGBMClassifier(n_jobs = -1, class_weight = 'balanced', \n",
    "                                                    objective = 'binary', reg_alpha = 0.1, reg_lambda = 0.1,\n",
    "                                                    random_state = 42, subsample = 0.9))], verbose = True)\n",
    "LGBM_importance.fit(app_train.drop('TARGET', axis = 1),\n",
    "                    app_train[['TARGET']])\n",
    "print('done...')"
   ]
  },
  {
   "cell_type": "code",
   "execution_count": 64,
   "id": "acting-community",
   "metadata": {},
   "outputs": [
    {
     "name": "stdout",
     "output_type": "stream",
     "text": [
      "[Pipeline]  (step 1 of 2) Processing preprocessing_features, total=   7.3s\n",
      "[Pipeline] .............. (step 2 of 2) Processing LGBM, total=  18.7s\n",
      "[Pipeline]  (step 1 of 2) Processing preprocessing_features, total=   8.2s\n",
      "[Pipeline] .............. (step 2 of 2) Processing LGBM, total=  19.7s\n",
      "[Pipeline]  (step 1 of 2) Processing preprocessing_features, total=   7.9s\n",
      "[Pipeline] .............. (step 2 of 2) Processing LGBM, total=  19.9s\n",
      "[Pipeline]  (step 1 of 2) Processing preprocessing_features, total=   8.0s\n",
      "[Pipeline] .............. (step 2 of 2) Processing LGBM, total=  21.0s\n",
      "[Pipeline]  (step 1 of 2) Processing preprocessing_features, total=   7.4s\n",
      "[Pipeline] .............. (step 2 of 2) Processing LGBM, total=  18.6s\n",
      "\n",
      "\n",
      "======== model evaluation metrics \"LGBM_importance\" ========\n",
      "confusion matrix and classification report \"app_train\": \n",
      "[[207093  75593]\n",
      " [  6341  18484]]\n",
      "              precision    recall  f1-score   support\n",
      "\n",
      "      repaid       0.97      0.73      0.83    282686\n",
      "  not repaid       0.20      0.74      0.31     24825\n",
      "\n",
      "    accuracy                           0.73    307511\n",
      "   macro avg       0.58      0.74      0.57    307511\n",
      "weighted avg       0.91      0.73      0.79    307511\n",
      "\n"
     ]
    },
    {
     "data": {
      "text/html": [
       "<div>\n",
       "<style scoped>\n",
       "    .dataframe tbody tr th:only-of-type {\n",
       "        vertical-align: middle;\n",
       "    }\n",
       "\n",
       "    .dataframe tbody tr th {\n",
       "        vertical-align: top;\n",
       "    }\n",
       "\n",
       "    .dataframe thead th {\n",
       "        text-align: right;\n",
       "    }\n",
       "</style>\n",
       "<table border=\"1\" class=\"dataframe\">\n",
       "  <thead>\n",
       "    <tr style=\"text-align: right;\">\n",
       "      <th></th>\n",
       "      <th>Accuracy train</th>\n",
       "      <th>ROC AUC 5-CV train</th>\n",
       "      <th>ROC AUC 5-CV validate</th>\n",
       "      <th>ROC AUC train</th>\n",
       "    </tr>\n",
       "  </thead>\n",
       "  <tbody>\n",
       "    <tr>\n",
       "      <th>LGBM_importance</th>\n",
       "      <td>0.734</td>\n",
       "      <td>0.825 ± 0.0</td>\n",
       "      <td>0.777 ± 0.002</td>\n",
       "      <td>0.817</td>\n",
       "    </tr>\n",
       "  </tbody>\n",
       "</table>\n",
       "</div>"
      ],
      "text/plain": [
       "                 Accuracy train ROC AUC 5-CV train ROC AUC 5-CV validate  \\\n",
       "LGBM_importance           0.734        0.825 ± 0.0         0.777 ± 0.002   \n",
       "\n",
       "                 ROC AUC train  \n",
       "LGBM_importance          0.817  "
      ]
     },
     "metadata": {},
     "output_type": "display_data"
    },
    {
     "name": "stdout",
     "output_type": "stream",
     "text": [
      "Wall time: 3min 42s\n"
     ]
    }
   ],
   "source": [
    "%%time\n",
    "# evaluate LGBM_importance\n",
    "df_LGBM_importance, y_pred_proba_test = model_evaluation(model = LGBM_importance, \n",
    "                                                         tuning = False, \n",
    "                                                         train = app_train, \n",
    "                                                         test = app_test, \n",
    "                                                         name = 'LGBM_importance')\n",
    "display(df_LGBM_importance)"
   ]
  },
  {
   "cell_type": "code",
   "execution_count": 65,
   "id": "offshore-suicide",
   "metadata": {},
   "outputs": [
    {
     "data": {
      "text/html": [
       "<div>\n",
       "<style scoped>\n",
       "    .dataframe tbody tr th:only-of-type {\n",
       "        vertical-align: middle;\n",
       "    }\n",
       "\n",
       "    .dataframe tbody tr th {\n",
       "        vertical-align: top;\n",
       "    }\n",
       "\n",
       "    .dataframe thead th {\n",
       "        text-align: right;\n",
       "    }\n",
       "</style>\n",
       "<table border=\"1\" class=\"dataframe\">\n",
       "  <thead>\n",
       "    <tr style=\"text-align: right;\">\n",
       "      <th></th>\n",
       "      <th>SK_ID_CURR</th>\n",
       "      <th>TARGET</th>\n",
       "    </tr>\n",
       "  </thead>\n",
       "  <tbody>\n",
       "    <tr>\n",
       "      <th>0</th>\n",
       "      <td>100001</td>\n",
       "      <td>0.362727</td>\n",
       "    </tr>\n",
       "    <tr>\n",
       "      <th>1</th>\n",
       "      <td>100005</td>\n",
       "      <td>0.546602</td>\n",
       "    </tr>\n",
       "    <tr>\n",
       "      <th>2</th>\n",
       "      <td>100013</td>\n",
       "      <td>0.167219</td>\n",
       "    </tr>\n",
       "    <tr>\n",
       "      <th>3</th>\n",
       "      <td>100028</td>\n",
       "      <td>0.228348</td>\n",
       "    </tr>\n",
       "    <tr>\n",
       "      <th>4</th>\n",
       "      <td>100038</td>\n",
       "      <td>0.653252</td>\n",
       "    </tr>\n",
       "  </tbody>\n",
       "</table>\n",
       "</div>"
      ],
      "text/plain": [
       "   SK_ID_CURR    TARGET\n",
       "0      100001  0.362727\n",
       "1      100005  0.546602\n",
       "2      100013  0.167219\n",
       "3      100028  0.228348\n",
       "4      100038  0.653252"
      ]
     },
     "execution_count": 65,
     "metadata": {},
     "output_type": "execute_result"
    }
   ],
   "source": [
    "# create submission dataframe and save the submission to a csv file\n",
    "df_submit = app_test[['SK_ID_CURR']].copy()\n",
    "df_submit['TARGET'] = y_pred_proba_test\n",
    "df_submit.to_csv('submission/LGBM_importance.csv', index = False)\n",
    "df_submit.head()"
   ]
  },
  {
   "cell_type": "code",
   "execution_count": 66,
   "id": "expensive-astrology",
   "metadata": {},
   "outputs": [
    {
     "data": {
      "text/html": [
       "<div>\n",
       "<style scoped>\n",
       "    .dataframe tbody tr th:only-of-type {\n",
       "        vertical-align: middle;\n",
       "    }\n",
       "\n",
       "    .dataframe tbody tr th {\n",
       "        vertical-align: top;\n",
       "    }\n",
       "\n",
       "    .dataframe thead th {\n",
       "        text-align: right;\n",
       "    }\n",
       "</style>\n",
       "<table border=\"1\" class=\"dataframe\">\n",
       "  <thead>\n",
       "    <tr style=\"text-align: right;\">\n",
       "      <th></th>\n",
       "      <th>Accuracy train</th>\n",
       "      <th>ROC AUC 5-CV train</th>\n",
       "      <th>ROC AUC 5-CV validate</th>\n",
       "      <th>ROC AUC train</th>\n",
       "      <th>ROC AUC test</th>\n",
       "    </tr>\n",
       "  </thead>\n",
       "  <tbody>\n",
       "    <tr>\n",
       "      <th>LGBM_importance</th>\n",
       "      <td>0.734</td>\n",
       "      <td>0.825 ± 0.0</td>\n",
       "      <td>0.777 ± 0.002</td>\n",
       "      <td>0.817</td>\n",
       "      <td>0.772</td>\n",
       "    </tr>\n",
       "  </tbody>\n",
       "</table>\n",
       "</div>"
      ],
      "text/plain": [
       "                 Accuracy train ROC AUC 5-CV train ROC AUC 5-CV validate  \\\n",
       "LGBM_importance           0.734        0.825 ± 0.0         0.777 ± 0.002   \n",
       "\n",
       "                 ROC AUC train  ROC AUC test  \n",
       "LGBM_importance          0.817         0.772  "
      ]
     },
     "execution_count": 66,
     "metadata": {},
     "output_type": "execute_result"
    }
   ],
   "source": [
    "df_LGBM_importance['ROC AUC test'] = round(0.77201, 3)\n",
    "df_LGBM_importance"
   ]
  },
  {
   "cell_type": "markdown",
   "id": "capital-marijuana",
   "metadata": {},
   "source": [
    "- The `ROC AUC test` score is obtained after submit the submission file to [Kaggle](https://www.kaggle.com/competitions/home-credit-default-risk/overview) that is `0.77201`"
   ]
  },
  {
   "cell_type": "markdown",
   "id": "global-japan",
   "metadata": {},
   "source": [
    "# Model performances summary\n",
    "\n",
    "From all the trained models using various of feature engineering techniques, the best performed model is `LGBM_total`.\n",
    "\n",
    "`LGBM_total` is trained using\n",
    "- all significant features from `app_train` (in `num_columns`, `nom_columns`, and `ord_columns`), \n",
    "- domain knowledge features (`creation_columns`), \n",
    "- bureau application dataset (`bureau_app_columns`), and \n",
    "- previous application dataset (`previous_app_columns`).\n",
    "\n",
    "Hence we will use this model and perform hyperparameter tuning in the next notebook, `Part 3 - Hyperparameter Tuning and Interpretation`."
   ]
  },
  {
   "cell_type": "code",
   "execution_count": 71,
   "id": "hawaiian-fight",
   "metadata": {},
   "outputs": [
    {
     "data": {
      "text/html": [
       "<div>\n",
       "<style scoped>\n",
       "    .dataframe tbody tr th:only-of-type {\n",
       "        vertical-align: middle;\n",
       "    }\n",
       "\n",
       "    .dataframe tbody tr th {\n",
       "        vertical-align: top;\n",
       "    }\n",
       "\n",
       "    .dataframe thead th {\n",
       "        text-align: right;\n",
       "    }\n",
       "</style>\n",
       "<table border=\"1\" class=\"dataframe\">\n",
       "  <thead>\n",
       "    <tr style=\"text-align: right;\">\n",
       "      <th></th>\n",
       "      <th>Accuracy train</th>\n",
       "      <th>ROC AUC 5-CV train</th>\n",
       "      <th>ROC AUC 5-CV validate</th>\n",
       "      <th>ROC AUC train</th>\n",
       "      <th>ROC AUC test</th>\n",
       "    </tr>\n",
       "  </thead>\n",
       "  <tbody>\n",
       "    <tr>\n",
       "      <th>LogReg_baseline</th>\n",
       "      <td>0.686</td>\n",
       "      <td>0.746 ± 0.001</td>\n",
       "      <td>0.743 ± 0.003</td>\n",
       "      <td>0.746</td>\n",
       "      <td>0.730</td>\n",
       "    </tr>\n",
       "    <tr>\n",
       "      <th>LogReg_poly</th>\n",
       "      <td>0.684</td>\n",
       "      <td>0.746 ± 0.001</td>\n",
       "      <td>0.744 ± 0.003</td>\n",
       "      <td>0.746</td>\n",
       "      <td>0.730</td>\n",
       "    </tr>\n",
       "    <tr>\n",
       "      <th>LogReg_domain</th>\n",
       "      <td>0.687</td>\n",
       "      <td>0.751 ± 0.001</td>\n",
       "      <td>0.748 ± 0.003</td>\n",
       "      <td>0.751</td>\n",
       "      <td>0.736</td>\n",
       "    </tr>\n",
       "    <tr>\n",
       "      <th>LogReg_bureau</th>\n",
       "      <td>0.688</td>\n",
       "      <td>0.75 ± 0.001</td>\n",
       "      <td>0.747 ± 0.002</td>\n",
       "      <td>0.750</td>\n",
       "      <td>0.736</td>\n",
       "    </tr>\n",
       "    <tr>\n",
       "      <th>LogReg_previous</th>\n",
       "      <td>0.701</td>\n",
       "      <td>0.765 ± 0.001</td>\n",
       "      <td>0.761 ± 0.003</td>\n",
       "      <td>0.766</td>\n",
       "      <td>0.752</td>\n",
       "    </tr>\n",
       "  </tbody>\n",
       "</table>\n",
       "</div>"
      ],
      "text/plain": [
       "                 Accuracy train ROC AUC 5-CV train ROC AUC 5-CV validate  \\\n",
       "LogReg_baseline           0.686      0.746 ± 0.001         0.743 ± 0.003   \n",
       "LogReg_poly               0.684      0.746 ± 0.001         0.744 ± 0.003   \n",
       "LogReg_domain             0.687      0.751 ± 0.001         0.748 ± 0.003   \n",
       "LogReg_bureau             0.688       0.75 ± 0.001         0.747 ± 0.002   \n",
       "LogReg_previous           0.701      0.765 ± 0.001         0.761 ± 0.003   \n",
       "\n",
       "                 ROC AUC train  ROC AUC test  \n",
       "LogReg_baseline          0.746         0.730  \n",
       "LogReg_poly              0.746         0.730  \n",
       "LogReg_domain            0.751         0.736  \n",
       "LogReg_bureau            0.750         0.736  \n",
       "LogReg_previous          0.766         0.752  "
      ]
     },
     "metadata": {},
     "output_type": "display_data"
    },
    {
     "data": {
      "text/html": [
       "<style  type=\"text/css\" >\n",
       "#T_c554d_row5_col0,#T_c554d_row5_col3,#T_c554d_row5_col4{\n",
       "            background-color:  #F7DC6F;\n",
       "        }</style><table id=\"T_c554d_\" ><thead>    <tr>        <th class=\"blank level0\" ></th>        <th class=\"col_heading level0 col0\" >Accuracy train</th>        <th class=\"col_heading level0 col1\" >ROC AUC 5-CV train</th>        <th class=\"col_heading level0 col2\" >ROC AUC 5-CV validate</th>        <th class=\"col_heading level0 col3\" >ROC AUC train</th>        <th class=\"col_heading level0 col4\" >ROC AUC test</th>    </tr></thead><tbody>\n",
       "                <tr>\n",
       "                        <th id=\"T_c554d_level0_row0\" class=\"row_heading level0 row0\" >LGBM_baseline</th>\n",
       "                        <td id=\"T_c554d_row0_col0\" class=\"data row0 col0\" >0.712</td>\n",
       "                        <td id=\"T_c554d_row0_col1\" class=\"data row0 col1\" >0.797 ± 0.0</td>\n",
       "                        <td id=\"T_c554d_row0_col2\" class=\"data row0 col2\" >0.757 ± 0.004</td>\n",
       "                        <td id=\"T_c554d_row0_col3\" class=\"data row0 col3\" >0.790</td>\n",
       "                        <td id=\"T_c554d_row0_col4\" class=\"data row0 col4\" >0.740</td>\n",
       "            </tr>\n",
       "            <tr>\n",
       "                        <th id=\"T_c554d_level0_row1\" class=\"row_heading level0 row1\" >LGBM_poly</th>\n",
       "                        <td id=\"T_c554d_row1_col0\" class=\"data row1 col0\" >0.708</td>\n",
       "                        <td id=\"T_c554d_row1_col1\" class=\"data row1 col1\" >0.797 ± 0.001</td>\n",
       "                        <td id=\"T_c554d_row1_col2\" class=\"data row1 col2\" >0.757 ± 0.003</td>\n",
       "                        <td id=\"T_c554d_row1_col3\" class=\"data row1 col3\" >0.790</td>\n",
       "                        <td id=\"T_c554d_row1_col4\" class=\"data row1 col4\" >0.741</td>\n",
       "            </tr>\n",
       "            <tr>\n",
       "                        <th id=\"T_c554d_level0_row2\" class=\"row_heading level0 row2\" >LGBM_domain</th>\n",
       "                        <td id=\"T_c554d_row2_col0\" class=\"data row2 col0\" >0.717</td>\n",
       "                        <td id=\"T_c554d_row2_col1\" class=\"data row2 col1\" >0.803 ± 0.001</td>\n",
       "                        <td id=\"T_c554d_row2_col2\" class=\"data row2 col2\" >0.764 ± 0.003</td>\n",
       "                        <td id=\"T_c554d_row2_col3\" class=\"data row2 col3\" >0.798</td>\n",
       "                        <td id=\"T_c554d_row2_col4\" class=\"data row2 col4\" >0.756</td>\n",
       "            </tr>\n",
       "            <tr>\n",
       "                        <th id=\"T_c554d_level0_row3\" class=\"row_heading level0 row3\" >LGBM_bureau</th>\n",
       "                        <td id=\"T_c554d_row3_col0\" class=\"data row3 col0\" >0.720</td>\n",
       "                        <td id=\"T_c554d_row3_col1\" class=\"data row3 col1\" >0.807 ± 0.001</td>\n",
       "                        <td id=\"T_c554d_row3_col2\" class=\"data row3 col2\" >0.763 ± 0.002</td>\n",
       "                        <td id=\"T_c554d_row3_col3\" class=\"data row3 col3\" >0.800</td>\n",
       "                        <td id=\"T_c554d_row3_col4\" class=\"data row3 col4\" >0.750</td>\n",
       "            </tr>\n",
       "            <tr>\n",
       "                        <th id=\"T_c554d_level0_row4\" class=\"row_heading level0 row4\" >LGBM_previous</th>\n",
       "                        <td id=\"T_c554d_row4_col0\" class=\"data row4 col0\" >0.728</td>\n",
       "                        <td id=\"T_c554d_row4_col1\" class=\"data row4 col1\" >0.822 ± 0.001</td>\n",
       "                        <td id=\"T_c554d_row4_col2\" class=\"data row4 col2\" >0.775 ± 0.004</td>\n",
       "                        <td id=\"T_c554d_row4_col3\" class=\"data row4 col3\" >0.814</td>\n",
       "                        <td id=\"T_c554d_row4_col4\" class=\"data row4 col4\" >0.763</td>\n",
       "            </tr>\n",
       "            <tr>\n",
       "                        <th id=\"T_c554d_level0_row5\" class=\"row_heading level0 row5\" >LGBM_total</th>\n",
       "                        <td id=\"T_c554d_row5_col0\" class=\"data row5 col0\" >0.736</td>\n",
       "                        <td id=\"T_c554d_row5_col1\" class=\"data row5 col1\" >0.829 ± 0.0</td>\n",
       "                        <td id=\"T_c554d_row5_col2\" class=\"data row5 col2\" >0.781 ± 0.003</td>\n",
       "                        <td id=\"T_c554d_row5_col3\" class=\"data row5 col3\" >0.821</td>\n",
       "                        <td id=\"T_c554d_row5_col4\" class=\"data row5 col4\" >0.777</td>\n",
       "            </tr>\n",
       "            <tr>\n",
       "                        <th id=\"T_c554d_level0_row6\" class=\"row_heading level0 row6\" >LGBM_missing50</th>\n",
       "                        <td id=\"T_c554d_row6_col0\" class=\"data row6 col0\" >0.735</td>\n",
       "                        <td id=\"T_c554d_row6_col1\" class=\"data row6 col1\" >0.825 ± 0.0</td>\n",
       "                        <td id=\"T_c554d_row6_col2\" class=\"data row6 col2\" >0.778 ± 0.003</td>\n",
       "                        <td id=\"T_c554d_row6_col3\" class=\"data row6 col3\" >0.818</td>\n",
       "                        <td id=\"T_c554d_row6_col4\" class=\"data row6 col4\" >0.772</td>\n",
       "            </tr>\n",
       "            <tr>\n",
       "                        <th id=\"T_c554d_level0_row7\" class=\"row_heading level0 row7\" >LGBM_missing0</th>\n",
       "                        <td id=\"T_c554d_row7_col0\" class=\"data row7 col0\" >0.682</td>\n",
       "                        <td id=\"T_c554d_row7_col1\" class=\"data row7 col1\" >0.761 ± 0.001</td>\n",
       "                        <td id=\"T_c554d_row7_col2\" class=\"data row7 col2\" >0.725 ± 0.003</td>\n",
       "                        <td id=\"T_c554d_row7_col3\" class=\"data row7 col3\" >0.755</td>\n",
       "                        <td id=\"T_c554d_row7_col4\" class=\"data row7 col4\" >0.703</td>\n",
       "            </tr>\n",
       "            <tr>\n",
       "                        <th id=\"T_c554d_level0_row8\" class=\"row_heading level0 row8\" >LGBM_importance</th>\n",
       "                        <td id=\"T_c554d_row8_col0\" class=\"data row8 col0\" >0.734</td>\n",
       "                        <td id=\"T_c554d_row8_col1\" class=\"data row8 col1\" >0.825 ± 0.0</td>\n",
       "                        <td id=\"T_c554d_row8_col2\" class=\"data row8 col2\" >0.777 ± 0.002</td>\n",
       "                        <td id=\"T_c554d_row8_col3\" class=\"data row8 col3\" >0.817</td>\n",
       "                        <td id=\"T_c554d_row8_col4\" class=\"data row8 col4\" >0.772</td>\n",
       "            </tr>\n",
       "    </tbody></table>"
      ],
      "text/plain": [
       "<pandas.io.formats.style.Styler at 0x1dc09b89df0>"
      ]
     },
     "metadata": {},
     "output_type": "display_data"
    }
   ],
   "source": [
    "# sum up all the model performance into a single dataframe\n",
    "df_model_performance_LogReg = pd.concat([df_LogReg_baseline, df_LogReg_poly, df_LogReg_domain, df_LogReg_bureau, df_LogReg_previous], axis = 0)\n",
    "display(df_model_performance_LogReg)\n",
    "\n",
    "df_model_performance_LGBM = pd.concat([df_LGBM_baseline, df_LGBM_poly, df_LGBM_domain, df_LGBM_bureau, df_LGBM_previous,\n",
    "                                       df_LGBM_total, df_LGBM_missing50, df_LGBM_missing0, df_LGBM_importance], axis = 0)\n",
    "display(df_model_performance_LGBM.style.highlight_max(color = '#F7DC6F').set_precision(3))"
   ]
  },
  {
   "cell_type": "markdown",
   "id": "cathedral-nitrogen",
   "metadata": {},
   "source": [
    "# Save the best model"
   ]
  },
  {
   "cell_type": "code",
   "execution_count": 14,
   "id": "powered-permit",
   "metadata": {},
   "outputs": [
    {
     "data": {
      "text/plain": [
       "False"
      ]
     },
     "execution_count": 14,
     "metadata": {},
     "output_type": "execute_result"
    }
   ],
   "source": [
    "from sklearn.linear_model import LogisticRegression\n",
    "def check_fitted(clf): \n",
    "    return hasattr(clf, \"classes_\")\n",
    "\n",
    "no_trained_model_1 = LGBMClassifier()\n",
    "no_trained_model_2 = LogisticRegression()\n",
    "check_fitted(no_trained_model_2)"
   ]
  },
  {
   "cell_type": "code",
   "execution_count": 16,
   "id": "distant-guidance",
   "metadata": {},
   "outputs": [],
   "source": [
    "import pickle\n",
    "# save the model to disk\n",
    "filename = 'LGBM_total.sav'\n",
    "pickle.dump(LGBM_total[1], open(filename, 'wb'))\n",
    "\n",
    "# load the model from disk\n",
    "loaded_model = pickle.load(open(filename, 'rb'))\n",
    "print(loaded_model)\n",
    "print(check_fitted(loaded_model))"
   ]
  },
  {
   "cell_type": "code",
   "execution_count": 19,
   "id": "previous-emphasis",
   "metadata": {},
   "outputs": [
    {
     "name": "stdout",
     "output_type": "stream",
     "text": [
      "LGBMClassifier(class_weight='balanced', objective='binary', random_state=42,\n",
      "               reg_alpha=0.1, reg_lambda=0.1, subsample=0.9)\n",
      "True\n"
     ]
    }
   ],
   "source": [
    "import pickle\n",
    "# save the model to disk\n",
    "filename = 'LGBM_baseline.sav'\n",
    "pickle.dump(LGBM_baseline[1], open(filename, 'wb'))\n",
    "\n",
    "# load the model from disk\n",
    "loaded_model = pickle.load(open(filename, 'rb'))\n",
    "print(loaded_model)\n",
    "print(check_fitted(loaded_model))"
   ]
  }
 ],
 "metadata": {
  "kernelspec": {
   "display_name": "Python 3",
   "language": "python",
   "name": "python3"
  },
  "language_info": {
   "codemirror_mode": {
    "name": "ipython",
    "version": 3
   },
   "file_extension": ".py",
   "mimetype": "text/x-python",
   "name": "python",
   "nbconvert_exporter": "python",
   "pygments_lexer": "ipython3",
   "version": "3.9.1"
  },
  "toc": {
   "base_numbering": 1,
   "nav_menu": {},
   "number_sections": true,
   "sideBar": true,
   "skip_h1_title": false,
   "title_cell": "Table of Contents",
   "title_sidebar": "Contents",
   "toc_cell": false,
   "toc_position": {
    "height": "531.667px",
    "left": "115px",
    "top": "111.016px",
    "width": "301.927px"
   },
   "toc_section_display": true,
   "toc_window_display": true
  }
 },
 "nbformat": 4,
 "nbformat_minor": 5
}
